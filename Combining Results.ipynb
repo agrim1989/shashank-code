{
 "cells": [
  {
   "cell_type": "code",
   "execution_count": 2,
   "metadata": {},
   "outputs": [],
   "source": [
    "from pynse import *\n",
    "import os\n",
    "import datetime\n",
    "import matplotlib.pyplot as plt\n",
    "import time, asyncio\n",
    "import pandas as pd\n",
    "import csv\n",
    "import time\n",
    "\n",
    "\n",
    "from concurrent.futures import ThreadPoolExecutor\n",
    "nse=Nse()\n",
    "#nse.bhavcopy(series=\"all\")\n",
    "#bhavcopy_full=nse.bhavcopy(series=\"all\")"
   ]
  },
  {
   "cell_type": "code",
   "execution_count": 3,
   "metadata": {},
   "outputs": [
    {
     "name": "stderr",
     "output_type": "stream",
     "text": [
      "HTTPSConnectionPool(host='archives.nseindia.com', port=443): Read timed out.\n"
     ]
    },
    {
     "name": "stdout",
     "output_type": "stream",
     "text": [
      "Error occurred while creating  2024-01-31: 'NoneType' object has no attribute 'content'\n",
      "Error occurred while creating  2024-02-07: local variable 'dt_col' referenced before assignment\n"
     ]
    }
   ],
   "source": [
    "#today = datetime.date.today()\n",
    "now = datetime.datetime.now()\n",
    "\n",
    "location2 = f\"./Shashank work/data/raw/FO Data\"\n",
    "location1 = f\"./Shashank work/data/raw/Delivdata\"\n",
    "\n",
    "\n",
    "import datetime as dt\n",
    "\n",
    "date_list = [\n",
    "\n",
    "dt.date(2024,1,29),\n",
    "dt.date(2024,1,30),\n",
    "dt.date(2024,1,31),\n",
    "dt.date(2024,2,1),\n",
    "dt.date(2024,2,2),\n",
    "\n",
    "dt.date(2024,2,5),\n",
    "dt.date(2024,2,6),\n",
    "dt.date(2024,2,7),\n",
    "\n",
    "]\n",
    "\n",
    "\n",
    "for date in date_list:\n",
    "    try:\n",
    "        df1 = nse.bhavcopy(date)\n",
    "        file_name = f\"{location1}/{date.strftime('%Y%m%d')}_{int(now.timestamp())}.csv\"\n",
    "        df1.to_csv(file_name)\n",
    "        \n",
    "        df2 = nse.bhavcopy_fno(date)\n",
    "        FOData = df2[df2['INSTRUMENT'].isin(['FUTIDX','FUTSTK'])]\n",
    "        FOData.to_csv(f\"{location2}/{date.strftime('%Y%m%d')}_{int(now.timestamp())}.csv\")\n",
    "\n",
    "    except Exception as e:\n",
    "        print(f\"Error occurred while creating  {date}: {str(e)}\")\n",
    "        continue\n"
   ]
  },
  {
   "cell_type": "code",
   "execution_count": null,
   "metadata": {},
   "outputs": [],
   "source": [
    "import os\n",
    "import pandas as pd\n",
    "import glob\n",
    "from datetime import timezone, timedelta\n",
    "\n",
    "# Read first set of CSV files\n",
    "folder_path1 = \"C:/Users/99111/OneDrive/Documents/pynse/Shashank work/data/raw/Delivdata/*.csv\"\n",
    "\n",
    "\n",
    "\n",
    "files1 = glob.glob(folder_path1)\n",
    "df_list1 = []\n",
    "for file in files1:\n",
    "    df = pd.read_csv(file)\n",
    "    # Append to list\n",
    "    df_list1.append(df)\n",
    "# Concatenate all dataframes\n",
    "data = pd.concat(df_list1, ignore_index=True)\n",
    "data = data.fillna(0)\n",
    "data = data.sort_values(by='DATE1', ascending=True)\n",
    "dates = data['DATE1'].unique().tolist()\n",
    "data"
   ]
  },
  {
   "cell_type": "code",
   "execution_count": null,
   "metadata": {},
   "outputs": [],
   "source": [
    "\n",
    "symbols = ['AARTIIND', 'ACC', 'ADANIPORTS', 'ALKEM', 'AMBUJACEM', 'APOLLOHOSP', 'APOLLOTYRE', \n",
    "                     'ASIANPAINT', 'AUROPHARMA', 'AXISBANK', 'BAJAJFINSV', 'BAJFINANCE', 'BALKRISIND', \n",
    "                     'BANKBARODA', 'BEL', 'BERGEPAINT', 'BHARATFORG', 'BHEL', 'BOSCHLTD', 'BRITANNIA', \n",
    "                     'CHOLAFIN', 'CIPLA', 'COALINDIA', 'COFORGE', 'COLPAL', 'CONCOR', 'CUB', 'DABUR', \n",
    "                     'DEEPAKNTR', 'DIVISLAB', 'DRREDDY', 'ESCORTS', 'EXIDEIND', 'FEDERALBNK', 'GLENMARK', \n",
    "                     'GODREJCP', 'GODREJPROP', 'GRANULES', 'GRASIM', 'GUJGASLTD', 'HAVELLS', 'HDFC', \n",
    "                     'HDFCBANK', 'HDFCLIFE', 'HEROMOTOCO', 'HINDALCO', 'HINDPETRO', 'HINDUNILVR', \n",
    "                     'ICICIBANK', 'ICICIPRULI', 'IDFCFIRSTB', 'IGL', 'INDIGO', 'INDUSINDBK', 'INDUSTOWER', \n",
    "                     'IOC', 'IRCTC', 'ITC', 'JINDALSTEL', 'JSWSTEEL', 'JUBLFOOD', 'KOTAKBANK', 'L&TFH', \n",
    "                     'LICHSGFIN', 'LT', 'LTTS', 'LUPIN', 'M&M', 'MANAPPURAM', 'MCDOWELL-N', 'MGL', 'MPHASIS', \n",
    "                     'MRF', 'MUTHOOTFIN', 'NATIONALUM', 'NAUKRI', 'NAVINFLUOR', 'NMDC', 'ONGC', 'PAGEIND', \n",
    "                     'PEL', 'PETRONET', 'PIDILITIND', 'PNB', 'POWERGRID', 'PVR', 'RAMCOCEM', 'RBLBANK', \n",
    "                     'RECLTD', 'RELIANCE', 'SAIL', 'SBILIFE', 'SBIN', 'SHREECEM', 'SIEMENS', 'SRF', 'SUNPHARMA', \n",
    "                     'SUNTV', 'TATACHEM','TATAMOTORS', 'TATAPOWER', 'TATASTEEL', 'TCS', 'TECHM', 'TITAN', 'TORNTPHARM', 'TRENT', 'TVSMOTOR', 'UBL', 'UPL', 'VEDL', 'VOLTAS', 'ZEEL', 'ADANIENT', 'AMARAJABAT', 'BAJAJ-AUTO', 'BHARTIARTL', 'BIOCON', 'BPCL', 'CANBK', 'EICHERMOT', 'GMRINFRA', 'HDFCAMC', '0', 'ICICIGI', 'INFY', 'MARUTI', 'MFSL', 'NTPC', 'PFC', 'PIIND', 'TATACONSUM', 'ULTRACEMCO', 'ASHOKLEY', 'BANDHANBNK', 'BATAINDIA', 'CUMMINSIND', 'GAIL', 'HCLTECH', 'LTI', 'M&MFIN', 'MINDTREE', 'NESTLEIND', 'SRTRANSFIN', 'TORNTPOWER', 'WIPRO', 'NIFTY', 'AUBANK', 'DLF', 'IDEA', 'LALPATHLAB', 'MARICO', 'BANKNIFTY', 'IBULHSGFIN', 'ABB', 'ABFRL', 'ATUL', 'BSOFT', 'CHAMBLFERT', 'COROMANDEL', 'CROMPTON', 'DELTACORP', 'HAL', 'HINDCOPPER', 'HONAUT', 'IDFC', 'INDIACEM', 'JKCEMENT', 'LAURUSLABS', 'MCX', 'OBEROIRLTY', 'PERSISTENT', 'POLYCAB', 'SBICARD', 'SYNGENE', 'TATACOMM', 'ZYDUSLIFE', 'ASTRAL', 'BALRAMCHIN', 'CANFINHOME', 'DALBHARAT', 'DIXON', 'FSL', 'INDHOTEL', 'INDIAMART', 'INTELLECT', 'METROPOLIS', 'MOTHERSON', 'OFSS', 'RAIN', 'ABBOTINDIA', 'ABCAPITAL', 'IEX', 'IPCALAB', 'WHIRLPOOL', 'GNFC']"
   ]
  },
  {
   "cell_type": "code",
   "execution_count": null,
   "metadata": {},
   "outputs": [],
   "source": [
    "result_df = pd.DataFrame()\n",
    "\n",
    "for symbol in symbols:\n",
    "    try:\n",
    "\n",
    "        d1 = data[data['SYMBOL'] == symbol].copy()\n",
    "        \n",
    "        d1.loc[:, 'TURNOVER_LACS_1'] = d1['TOTTRDVAL'] / 100000\n",
    "        d1.loc[:, 'DailyTOverinCR'] = (d1['TURNOVER_LACS_1'] + d1['TURNOVER_LACS']) / 100\n",
    "        d1.loc[:, '25SMA'] = d1['DailyTOverinCR'].rolling(window=25).mean() \n",
    "        d1['SMAinCR'] = d1['25SMA'].shift(periods=1)\n",
    "\n",
    "        d1 = d1.drop_duplicates(subset='DATE1')        \n",
    "        d1['DATE1'] = pd.to_datetime(d1['DATE1'])\n",
    "        d1 = d1.set_index('DATE1')\n",
    "        d1 = d1.resample('D').asfreq()\n",
    "        d1 = d1.fillna(method='ffill')\n",
    "        d1 = d1.reset_index()\n",
    "        d1 = d1[['SYMBOL','DATE1', 'DailyTOverinCR', 'SMAinCR']]\n",
    "\n",
    "        result_df = pd.concat([result_df, d1], axis=0, ignore_index=True)\n",
    "\n",
    "    except Exception as e:\n",
    "            print(f\"Error occurred while creating chart for {symbol}: {str(e)}\")\n",
    "            continue \n",
    "result_df.to_csv('Daily Turnover file.csv')"
   ]
  },
  {
   "attachments": {},
   "cell_type": "markdown",
   "metadata": {},
   "source": [
    "Hourly Deliv Data"
   ]
  },
  {
   "cell_type": "code",
   "execution_count": null,
   "metadata": {},
   "outputs": [],
   "source": [
    "import pandas as pd\n",
    "symlist = pd.read_csv(r'C:/Users/99111/OneDrive/Desktop/Stocklist.csv')\n",
    "symlist = symlist.dropna()\n",
    "symbols = symlist['SYMBOL'].tolist()\n",
    "\n"
   ]
  },
  {
   "cell_type": "code",
   "execution_count": null,
   "metadata": {},
   "outputs": [],
   "source": [
    "\n",
    "# Define a function to retrieve a quote for a symbol\n",
    "def get_quote(writer, symbol):\n",
    "    try:\n",
    "        quote = nse.get_quote(symbol)\n",
    "        writer.writerow([symbol, quote['timestamp'], quote['lastPrice'],quote['previousClose'],quote['open'], quote['secWiseDelPosDate'],quote['quantityTraded'],quote['deliveryQuantity'], quote['deliveryToTradedQuantity']])\n",
    "    except Exception as e:\n",
    "        print(f'Error: Could not retrieve quote for {symbol} - {e}')\n",
    "\n",
    "while True:\n",
    "    # Get the current timestamp\n",
    "    timestamp = time.strftime(\"%Y%m%d-%H%M%S\")\n",
    "\n",
    "    # Create the 'Quotes' folder if it doesn't exist\n",
    "    if not os.path.exists('Quotes'):\n",
    "        os.makedirs('Quotes')\n",
    "\n",
    "    # Open a file for writing with the timestamp as the filename in the 'Quotes' folder\n",
    "    with open(f'Quotes/quotes-{timestamp}.csv', 'w', newline='') as csvfile:\n",
    "        # Create a CSV writer object\n",
    "        writer = csv.writer(csvfile)\n",
    "\n",
    "        # Write the column headers\n",
    "        writer.writerow(['Symbol', 'timestamp', 'lastPrice','previousClose','open','secWiseDelPosDate', 'quantityTraded', 'deliveryQuantity','deliveryToTradedQuantity'])\n",
    "\n",
    "        # Create a thread pool\n",
    "        with ThreadPoolExecutor() as executor:\n",
    "            # Submit the symbols to the thread pool\n",
    "            results = [executor.submit(get_quote, writer, symbol) for symbol in symbols]\n",
    "\n",
    "            # Wait for all threads to complete\n",
    "            for f in results:\n",
    "                f.result()\n",
    "\n",
    "    # Pause the program for 5 minutes\n",
    "    time.sleep(300)\n"
   ]
  },
  {
   "cell_type": "code",
   "execution_count": null,
   "metadata": {},
   "outputs": [],
   "source": []
  }
 ],
 "metadata": {
  "kernelspec": {
   "display_name": "Python 3.10.7 64-bit (microsoft store)",
   "language": "python",
   "name": "python3"
  },
  "language_info": {
   "codemirror_mode": {
    "name": "ipython",
    "version": 3
   },
   "file_extension": ".py",
   "mimetype": "text/x-python",
   "name": "python",
   "nbconvert_exporter": "python",
   "pygments_lexer": "ipython3",
   "version": "3.10.11"
  },
  "orig_nbformat": 4,
  "vscode": {
   "interpreter": {
    "hash": "27156bc63d14a65dfa14e1b73b9a41f3aeb50270a4e898aa5ea771669f0a0420"
   }
  }
 },
 "nbformat": 4,
 "nbformat_minor": 2
}
