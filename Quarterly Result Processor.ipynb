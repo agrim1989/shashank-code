{
 "cells": [
  {
   "cell_type": "code",
   "execution_count": 1,
   "metadata": {},
   "outputs": [],
   "source": [
    "from pynse import *\n",
    "import os\n",
    "import datetime\n",
    "import matplotlib.pyplot as plt\n",
    "#import mplfinance as mpf\n",
    "import time, asyncio\n",
    "import matplotlib.dates as mdates\n",
    "import mplfinance as mpf\n",
    "import statsmodels.api as sm\n",
    "\n",
    "\n",
    "import os\n",
    "import glob\n",
    "import pandas as pd\n",
    "import mplfinance as mpf\n",
    "\n",
    "nse=Nse()\n",
    "#nse.bhavcopy(series=\"all\")\n",
    "#bhavcopy_full=nse.bhavcopy(series=\"all\")"
   ]
  },
  {
   "attachments": {},
   "cell_type": "markdown",
   "metadata": {},
   "source": [
    "Loading DATA"
   ]
  },
  {
   "cell_type": "code",
   "execution_count": 2,
   "metadata": {},
   "outputs": [
    {
     "name": "stderr",
     "output_type": "stream",
     "text": [
      "C:\\Users\\99111\\AppData\\Local\\Packages\\PythonSoftwareFoundation.Python.3.10_qbz5n2kfra8p0\\LocalCache\\local-packages\\Python310\\site-packages\\pandas\\core\\ops\\array_ops.py:73: FutureWarning: Comparison of Timestamp with datetime.date is deprecated in order to match the standard library behavior. In a future version these will be considered non-comparable. Use 'ts == pd.Timestamp(date)' or 'ts.date() == date' instead.\n",
      "  result = libops.scalar_compare(x.ravel(), y, op)\n"
     ]
    },
    {
     "data": {
      "text/html": [
       "<div>\n",
       "<style scoped>\n",
       "    .dataframe tbody tr th:only-of-type {\n",
       "        vertical-align: middle;\n",
       "    }\n",
       "\n",
       "    .dataframe tbody tr th {\n",
       "        vertical-align: top;\n",
       "    }\n",
       "\n",
       "    .dataframe thead th {\n",
       "        text-align: right;\n",
       "    }\n",
       "</style>\n",
       "<table border=\"1\" class=\"dataframe\">\n",
       "  <thead>\n",
       "    <tr style=\"text-align: right;\">\n",
       "      <th></th>\n",
       "      <th>Sr.No</th>\n",
       "      <th>Accord Code</th>\n",
       "      <th>Company Name</th>\n",
       "      <th>CD_Trading Status</th>\n",
       "      <th>CD_ISIN No</th>\n",
       "      <th>CD_BSE Code</th>\n",
       "      <th>CD_NSE Symbol</th>\n",
       "      <th>QTRC_Date End</th>\n",
       "      <th>QTRC_Gross Sales</th>\n",
       "      <th>QTRC_Less: Excise Duty</th>\n",
       "      <th>...</th>\n",
       "      <th>QTRC_PBTM%</th>\n",
       "      <th>QTRC_PATM%</th>\n",
       "      <th>QTRC_Result Date</th>\n",
       "      <th>QTRC_Date range</th>\n",
       "      <th>QTRC_Year</th>\n",
       "      <th>QTRC_Dividend (%)</th>\n",
       "      <th>QTRC_Other Income.1</th>\n",
       "      <th>Unnamed: 87</th>\n",
       "      <th>Unnamed: 88</th>\n",
       "      <th>uniquecode</th>\n",
       "    </tr>\n",
       "  </thead>\n",
       "  <tbody>\n",
       "    <tr>\n",
       "      <th>14943</th>\n",
       "      <td>14944</td>\n",
       "      <td>219897</td>\n",
       "      <td>Talwalkars Better Value Fitness Ltd.</td>\n",
       "      <td>InActive</td>\n",
       "      <td>INE502K01016</td>\n",
       "      <td>533200.0</td>\n",
       "      <td>TALWALKARS</td>\n",
       "      <td>2016-03-31</td>\n",
       "      <td>78.24</td>\n",
       "      <td>0.0</td>\n",
       "      <td>...</td>\n",
       "      <td>45.52</td>\n",
       "      <td>21.60</td>\n",
       "      <td>2016-05-05</td>\n",
       "      <td>29-Jun-2016</td>\n",
       "      <td>2016.0</td>\n",
       "      <td>0.0</td>\n",
       "      <td>0.00</td>\n",
       "      <td>0.0</td>\n",
       "      <td>0.0</td>\n",
       "      <td>Talwalkars Better Value Fitness Ltd.2016-03-31</td>\n",
       "    </tr>\n",
       "    <tr>\n",
       "      <th>16809</th>\n",
       "      <td>16810</td>\n",
       "      <td>132721</td>\n",
       "      <td>Visa Steel Ltd.</td>\n",
       "      <td>Active</td>\n",
       "      <td>INE286H01012</td>\n",
       "      <td>532721.0</td>\n",
       "      <td>VISASTEEL</td>\n",
       "      <td>2016-03-31</td>\n",
       "      <td>336.03</td>\n",
       "      <td>0.0</td>\n",
       "      <td>...</td>\n",
       "      <td>-46.85</td>\n",
       "      <td>-54.97</td>\n",
       "      <td>2016-05-27</td>\n",
       "      <td>29-Jun-2016</td>\n",
       "      <td>2016.0</td>\n",
       "      <td>0.0</td>\n",
       "      <td>1.30</td>\n",
       "      <td>0.0</td>\n",
       "      <td>0.0</td>\n",
       "      <td>Visa Steel Ltd.2016-03-31</td>\n",
       "    </tr>\n",
       "    <tr>\n",
       "      <th>7222</th>\n",
       "      <td>7223</td>\n",
       "      <td>132894</td>\n",
       "      <td>Indowind Energy Ltd.</td>\n",
       "      <td>Active</td>\n",
       "      <td>INE227G01018</td>\n",
       "      <td>532894.0</td>\n",
       "      <td>INDOWIND</td>\n",
       "      <td>2016-03-31</td>\n",
       "      <td>2.22</td>\n",
       "      <td>0.0</td>\n",
       "      <td>...</td>\n",
       "      <td>-12.35</td>\n",
       "      <td>12.22</td>\n",
       "      <td>2016-05-26</td>\n",
       "      <td>29-Jun-2016</td>\n",
       "      <td>2016.0</td>\n",
       "      <td>0.0</td>\n",
       "      <td>4.38</td>\n",
       "      <td>0.0</td>\n",
       "      <td>0.0</td>\n",
       "      <td>Indowind Energy Ltd.2016-03-31</td>\n",
       "    </tr>\n",
       "    <tr>\n",
       "      <th>123</th>\n",
       "      <td>124</td>\n",
       "      <td>111339</td>\n",
       "      <td>Abhayam Trading Ltd.</td>\n",
       "      <td>Suspended</td>\n",
       "      <td>INE212A01013</td>\n",
       "      <td>511339.0</td>\n",
       "      <td>APPLECREDT</td>\n",
       "      <td>2016-03-31</td>\n",
       "      <td>0.00</td>\n",
       "      <td>0.0</td>\n",
       "      <td>...</td>\n",
       "      <td>0.00</td>\n",
       "      <td>0.00</td>\n",
       "      <td>2017-04-24</td>\n",
       "      <td>29-Jun-2016</td>\n",
       "      <td>2016.0</td>\n",
       "      <td>0.0</td>\n",
       "      <td>0.00</td>\n",
       "      <td>0.0</td>\n",
       "      <td>0.0</td>\n",
       "      <td>Abhayam Trading Ltd.2016-03-31</td>\n",
       "    </tr>\n",
       "    <tr>\n",
       "      <th>11688</th>\n",
       "      <td>11689</td>\n",
       "      <td>123539</td>\n",
       "      <td>Precision Wires India Ltd.</td>\n",
       "      <td>Active</td>\n",
       "      <td>INE372C01037</td>\n",
       "      <td>523539.0</td>\n",
       "      <td>PRECWIRE</td>\n",
       "      <td>2016-03-31</td>\n",
       "      <td>209.58</td>\n",
       "      <td>0.0</td>\n",
       "      <td>...</td>\n",
       "      <td>3.55</td>\n",
       "      <td>2.36</td>\n",
       "      <td>2016-05-26</td>\n",
       "      <td>29-Jun-2016</td>\n",
       "      <td>2016.0</td>\n",
       "      <td>0.0</td>\n",
       "      <td>0.14</td>\n",
       "      <td>0.0</td>\n",
       "      <td>0.0</td>\n",
       "      <td>Precision Wires India Ltd.2016-03-31</td>\n",
       "    </tr>\n",
       "    <tr>\n",
       "      <th>...</th>\n",
       "      <td>...</td>\n",
       "      <td>...</td>\n",
       "      <td>...</td>\n",
       "      <td>...</td>\n",
       "      <td>...</td>\n",
       "      <td>...</td>\n",
       "      <td>...</td>\n",
       "      <td>...</td>\n",
       "      <td>...</td>\n",
       "      <td>...</td>\n",
       "      <td>...</td>\n",
       "      <td>...</td>\n",
       "      <td>...</td>\n",
       "      <td>...</td>\n",
       "      <td>...</td>\n",
       "      <td>...</td>\n",
       "      <td>...</td>\n",
       "      <td>...</td>\n",
       "      <td>...</td>\n",
       "      <td>...</td>\n",
       "      <td>...</td>\n",
       "    </tr>\n",
       "    <tr>\n",
       "      <th>1038</th>\n",
       "      <td>1039</td>\n",
       "      <td>215367</td>\n",
       "      <td>Jubilant FoodWorks Ltd.</td>\n",
       "      <td>Active</td>\n",
       "      <td>INE797F01020</td>\n",
       "      <td>533155.0</td>\n",
       "      <td>JUBLFOOD</td>\n",
       "      <td>2023-12-31</td>\n",
       "      <td>1378.12</td>\n",
       "      <td>0.0</td>\n",
       "      <td>...</td>\n",
       "      <td>5.10</td>\n",
       "      <td>3.64</td>\n",
       "      <td>2024-01-31</td>\n",
       "      <td>0</td>\n",
       "      <td>2023.0</td>\n",
       "      <td>0.0</td>\n",
       "      <td>4.16</td>\n",
       "      <td>0.0</td>\n",
       "      <td>0.0</td>\n",
       "      <td>Jubilant FoodWorks Ltd.2023-12-31</td>\n",
       "    </tr>\n",
       "    <tr>\n",
       "      <th>1040</th>\n",
       "      <td>1041</td>\n",
       "      <td>301578</td>\n",
       "      <td>Jubilant Ingrevia Ltd.</td>\n",
       "      <td>Active</td>\n",
       "      <td>INE0BY001018</td>\n",
       "      <td>543271.0</td>\n",
       "      <td>JUBLINGREA</td>\n",
       "      <td>2023-12-31</td>\n",
       "      <td>960.45</td>\n",
       "      <td>0.0</td>\n",
       "      <td>...</td>\n",
       "      <td>5.70</td>\n",
       "      <td>3.99</td>\n",
       "      <td>2024-01-30</td>\n",
       "      <td>0</td>\n",
       "      <td>2023.0</td>\n",
       "      <td>0.0</td>\n",
       "      <td>8.78</td>\n",
       "      <td>0.0</td>\n",
       "      <td>0.0</td>\n",
       "      <td>Jubilant Ingrevia Ltd.2023-12-31</td>\n",
       "    </tr>\n",
       "    <tr>\n",
       "      <th>1041</th>\n",
       "      <td>1042</td>\n",
       "      <td>130019</td>\n",
       "      <td>Jubilant Pharmova Ltd.</td>\n",
       "      <td>Active</td>\n",
       "      <td>INE700A01033</td>\n",
       "      <td>530019.0</td>\n",
       "      <td>JUBLPHARMA</td>\n",
       "      <td>2023-12-31</td>\n",
       "      <td>1665.20</td>\n",
       "      <td>0.0</td>\n",
       "      <td>...</td>\n",
       "      <td>5.24</td>\n",
       "      <td>3.18</td>\n",
       "      <td>2024-02-02</td>\n",
       "      <td>0</td>\n",
       "      <td>2023.0</td>\n",
       "      <td>0.0</td>\n",
       "      <td>35.80</td>\n",
       "      <td>0.0</td>\n",
       "      <td>0.0</td>\n",
       "      <td>Jubilant Pharmova Ltd.2023-12-31</td>\n",
       "    </tr>\n",
       "    <tr>\n",
       "      <th>1032</th>\n",
       "      <td>1033</td>\n",
       "      <td>132642</td>\n",
       "      <td>JSW Holdings Ltd.</td>\n",
       "      <td>Active</td>\n",
       "      <td>INE824G01012</td>\n",
       "      <td>532642.0</td>\n",
       "      <td>JSWHL</td>\n",
       "      <td>2023-12-31</td>\n",
       "      <td>27.29</td>\n",
       "      <td>0.0</td>\n",
       "      <td>...</td>\n",
       "      <td>90.08</td>\n",
       "      <td>66.75</td>\n",
       "      <td>2024-01-24</td>\n",
       "      <td>0</td>\n",
       "      <td>2023.0</td>\n",
       "      <td>0.0</td>\n",
       "      <td>0.00</td>\n",
       "      <td>0.0</td>\n",
       "      <td>0.0</td>\n",
       "      <td>JSW Holdings Ltd.2023-12-31</td>\n",
       "    </tr>\n",
       "    <tr>\n",
       "      <th>962</th>\n",
       "      <td>963</td>\n",
       "      <td>104786</td>\n",
       "      <td>Investment &amp; Precision Castings Ltd.</td>\n",
       "      <td>Active</td>\n",
       "      <td>INE155E01016</td>\n",
       "      <td>504786.0</td>\n",
       "      <td>0</td>\n",
       "      <td>2023-12-31</td>\n",
       "      <td>39.59</td>\n",
       "      <td>0.0</td>\n",
       "      <td>...</td>\n",
       "      <td>5.28</td>\n",
       "      <td>3.26</td>\n",
       "      <td>2024-01-30</td>\n",
       "      <td>0</td>\n",
       "      <td>2023.0</td>\n",
       "      <td>0.0</td>\n",
       "      <td>0.23</td>\n",
       "      <td>0.0</td>\n",
       "      <td>0.0</td>\n",
       "      <td>Investment &amp; Precision Castings Ltd.2023-12-31</td>\n",
       "    </tr>\n",
       "  </tbody>\n",
       "</table>\n",
       "<p>48859 rows × 90 columns</p>\n",
       "</div>"
      ],
      "text/plain": [
       "       Sr.No  Accord Code                          Company Name  \\\n",
       "14943  14944       219897  Talwalkars Better Value Fitness Ltd.   \n",
       "16809  16810       132721                       Visa Steel Ltd.   \n",
       "7222    7223       132894                  Indowind Energy Ltd.   \n",
       "123      124       111339                  Abhayam Trading Ltd.   \n",
       "11688  11689       123539            Precision Wires India Ltd.   \n",
       "...      ...          ...                                   ...   \n",
       "1038    1039       215367               Jubilant FoodWorks Ltd.   \n",
       "1040    1041       301578                Jubilant Ingrevia Ltd.   \n",
       "1041    1042       130019                Jubilant Pharmova Ltd.   \n",
       "1032    1033       132642                     JSW Holdings Ltd.   \n",
       "962      963       104786  Investment & Precision Castings Ltd.   \n",
       "\n",
       "      CD_Trading Status    CD_ISIN No  CD_BSE Code CD_NSE Symbol  \\\n",
       "14943          InActive  INE502K01016     533200.0    TALWALKARS   \n",
       "16809            Active  INE286H01012     532721.0     VISASTEEL   \n",
       "7222             Active  INE227G01018     532894.0      INDOWIND   \n",
       "123           Suspended  INE212A01013     511339.0    APPLECREDT   \n",
       "11688            Active  INE372C01037     523539.0      PRECWIRE   \n",
       "...                 ...           ...          ...           ...   \n",
       "1038             Active  INE797F01020     533155.0      JUBLFOOD   \n",
       "1040             Active  INE0BY001018     543271.0    JUBLINGREA   \n",
       "1041             Active  INE700A01033     530019.0    JUBLPHARMA   \n",
       "1032             Active  INE824G01012     532642.0         JSWHL   \n",
       "962              Active  INE155E01016     504786.0             0   \n",
       "\n",
       "      QTRC_Date End  QTRC_Gross Sales  QTRC_Less: Excise Duty  ...  \\\n",
       "14943    2016-03-31             78.24                     0.0  ...   \n",
       "16809    2016-03-31            336.03                     0.0  ...   \n",
       "7222     2016-03-31              2.22                     0.0  ...   \n",
       "123      2016-03-31              0.00                     0.0  ...   \n",
       "11688    2016-03-31            209.58                     0.0  ...   \n",
       "...             ...               ...                     ...  ...   \n",
       "1038     2023-12-31           1378.12                     0.0  ...   \n",
       "1040     2023-12-31            960.45                     0.0  ...   \n",
       "1041     2023-12-31           1665.20                     0.0  ...   \n",
       "1032     2023-12-31             27.29                     0.0  ...   \n",
       "962      2023-12-31             39.59                     0.0  ...   \n",
       "\n",
       "       QTRC_PBTM%  QTRC_PATM%  QTRC_Result Date  QTRC_Date range  QTRC_Year  \\\n",
       "14943       45.52       21.60        2016-05-05      29-Jun-2016     2016.0   \n",
       "16809      -46.85      -54.97        2016-05-27      29-Jun-2016     2016.0   \n",
       "7222       -12.35       12.22        2016-05-26      29-Jun-2016     2016.0   \n",
       "123          0.00        0.00        2017-04-24      29-Jun-2016     2016.0   \n",
       "11688        3.55        2.36        2016-05-26      29-Jun-2016     2016.0   \n",
       "...           ...         ...               ...              ...        ...   \n",
       "1038         5.10        3.64        2024-01-31                0     2023.0   \n",
       "1040         5.70        3.99        2024-01-30                0     2023.0   \n",
       "1041         5.24        3.18        2024-02-02                0     2023.0   \n",
       "1032        90.08       66.75        2024-01-24                0     2023.0   \n",
       "962          5.28        3.26        2024-01-30                0     2023.0   \n",
       "\n",
       "       QTRC_Dividend (%)  QTRC_Other Income.1  Unnamed: 87  Unnamed: 88  \\\n",
       "14943                0.0                 0.00          0.0          0.0   \n",
       "16809                0.0                 1.30          0.0          0.0   \n",
       "7222                 0.0                 4.38          0.0          0.0   \n",
       "123                  0.0                 0.00          0.0          0.0   \n",
       "11688                0.0                 0.14          0.0          0.0   \n",
       "...                  ...                  ...          ...          ...   \n",
       "1038                 0.0                 4.16          0.0          0.0   \n",
       "1040                 0.0                 8.78          0.0          0.0   \n",
       "1041                 0.0                35.80          0.0          0.0   \n",
       "1032                 0.0                 0.00          0.0          0.0   \n",
       "962                  0.0                 0.23          0.0          0.0   \n",
       "\n",
       "                                           uniquecode  \n",
       "14943  Talwalkars Better Value Fitness Ltd.2016-03-31  \n",
       "16809                       Visa Steel Ltd.2016-03-31  \n",
       "7222                   Indowind Energy Ltd.2016-03-31  \n",
       "123                    Abhayam Trading Ltd.2016-03-31  \n",
       "11688            Precision Wires India Ltd.2016-03-31  \n",
       "...                                               ...  \n",
       "1038                Jubilant FoodWorks Ltd.2023-12-31  \n",
       "1040                 Jubilant Ingrevia Ltd.2023-12-31  \n",
       "1041                 Jubilant Pharmova Ltd.2023-12-31  \n",
       "1032                      JSW Holdings Ltd.2023-12-31  \n",
       "962    Investment & Precision Castings Ltd.2023-12-31  \n",
       "\n",
       "[48859 rows x 90 columns]"
      ]
     },
     "execution_count": 2,
     "metadata": {},
     "output_type": "execute_result"
    }
   ],
   "source": [
    "# Quarterly Result\n",
    "\n",
    "folder_path = \"C:/Users/99111/OneDrive/Desktop/Full data set/Financial Reports/Quarterly Results cons from 200001 - 202212/*.csv\"\n",
    "\n",
    "files = glob.glob(folder_path)\n",
    "\n",
    "df_list = []\n",
    "\n",
    "for file in files:\n",
    "    df = pd.read_csv(file)\n",
    "    df_list.append(df)\n",
    "\n",
    "results = pd.concat(df_list)\n",
    "\n",
    "results['QTRC_Date End'] = pd.to_datetime(results['QTRC_Date End'], format='%Y%m')\n",
    "results['QTRC_Date End'] = results['QTRC_Date End'] + pd.offsets.MonthEnd(1)\n",
    "results['QTRC_Date End'] = results['QTRC_Date End'].dt.date\n",
    "\n",
    "results['QTRC_Result Date'] = pd.to_datetime(results['QTRC_Result Date'], format='%d-%b-%Y')\n",
    "results['QTRC_Result Date'] = results['QTRC_Result Date'].dt.date\n",
    "\n",
    "results = results.sort_values('QTRC_Date End')\n",
    "results.fillna(0, inplace=True)  # Fill NaN values with zeroes\n",
    "results.replace('NaT', np.datetime64('NaT'), inplace=True)\n",
    "symbols = results['Company Name'].unique().tolist()\n",
    "\n",
    "results['uniquecode'] = results['Company Name'] + results['QTRC_Date End'].astype(str)\n",
    "results = results.drop_duplicates(subset=['uniquecode'])\n",
    "\n",
    "results = results[results['QTRC_Date End'] >= pd.to_datetime('2016-01-01')].copy()\n",
    "results"
   ]
  },
  {
   "cell_type": "markdown",
   "metadata": {},
   "source": [
    "Companies Quarterly result"
   ]
  },
  {
   "cell_type": "code",
   "execution_count": 3,
   "metadata": {},
   "outputs": [
    {
     "name": "stderr",
     "output_type": "stream",
     "text": [
      "C:\\Users\\99111\\AppData\\Local\\Temp\\ipykernel_8468\\3680331057.py:10: FutureWarning: reindexing with a non-unique Index is deprecated and will raise in a future version.\n",
      "  results1['Increaseinstock'] = -1 * (results1['QTRC_(Increase) / Decrease In Stocks'][results1['QTRC_(Increase) / Decrease In Stocks'] < 0])\n"
     ]
    },
    {
     "name": "stdout",
     "output_type": "stream",
     "text": [
      "Error occurred  for Cyient Ltd.: cannot reindex on an axis with duplicate labels\n"
     ]
    },
    {
     "name": "stderr",
     "output_type": "stream",
     "text": [
      "C:\\Users\\99111\\AppData\\Local\\Temp\\ipykernel_8468\\3680331057.py:10: FutureWarning: reindexing with a non-unique Index is deprecated and will raise in a future version.\n",
      "  results1['Increaseinstock'] = -1 * (results1['QTRC_(Increase) / Decrease In Stocks'][results1['QTRC_(Increase) / Decrease In Stocks'] < 0])\n"
     ]
    },
    {
     "name": "stdout",
     "output_type": "stream",
     "text": [
      "Error occurred  for Dr. Reddy's Laboratories Ltd.: cannot reindex on an axis with duplicate labels\n"
     ]
    },
    {
     "name": "stderr",
     "output_type": "stream",
     "text": [
      "C:\\Users\\99111\\AppData\\Local\\Temp\\ipykernel_8468\\3680331057.py:10: FutureWarning: reindexing with a non-unique Index is deprecated and will raise in a future version.\n",
      "  results1['Increaseinstock'] = -1 * (results1['QTRC_(Increase) / Decrease In Stocks'][results1['QTRC_(Increase) / Decrease In Stocks'] < 0])\n",
      "C:\\Users\\99111\\AppData\\Local\\Temp\\ipykernel_8468\\3680331057.py:10: FutureWarning: reindexing with a non-unique Index is deprecated and will raise in a future version.\n",
      "  results1['Increaseinstock'] = -1 * (results1['QTRC_(Increase) / Decrease In Stocks'][results1['QTRC_(Increase) / Decrease In Stocks'] < 0])\n"
     ]
    },
    {
     "name": "stdout",
     "output_type": "stream",
     "text": [
      "Error occurred  for Aptech Ltd.: cannot reindex on an axis with duplicate labels\n",
      "Error occurred  for Indoco Remedies Ltd.: cannot reindex on an axis with duplicate labels\n"
     ]
    },
    {
     "name": "stderr",
     "output_type": "stream",
     "text": [
      "C:\\Users\\99111\\AppData\\Local\\Temp\\ipykernel_8468\\3680331057.py:10: FutureWarning: reindexing with a non-unique Index is deprecated and will raise in a future version.\n",
      "  results1['Increaseinstock'] = -1 * (results1['QTRC_(Increase) / Decrease In Stocks'][results1['QTRC_(Increase) / Decrease In Stocks'] < 0])\n"
     ]
    },
    {
     "name": "stdout",
     "output_type": "stream",
     "text": [
      "Error occurred  for GMR Airports Infrastructure Ltd.: cannot reindex on an axis with duplicate labels\n"
     ]
    },
    {
     "name": "stderr",
     "output_type": "stream",
     "text": [
      "C:\\Users\\99111\\AppData\\Local\\Temp\\ipykernel_8468\\3680331057.py:10: FutureWarning: reindexing with a non-unique Index is deprecated and will raise in a future version.\n",
      "  results1['Increaseinstock'] = -1 * (results1['QTRC_(Increase) / Decrease In Stocks'][results1['QTRC_(Increase) / Decrease In Stocks'] < 0])\n"
     ]
    },
    {
     "name": "stdout",
     "output_type": "stream",
     "text": [
      "Error occurred  for Havells India Ltd.: cannot reindex on an axis with duplicate labels\n"
     ]
    },
    {
     "name": "stderr",
     "output_type": "stream",
     "text": [
      "C:\\Users\\99111\\AppData\\Local\\Temp\\ipykernel_8468\\3680331057.py:10: FutureWarning: reindexing with a non-unique Index is deprecated and will raise in a future version.\n",
      "  results1['Increaseinstock'] = -1 * (results1['QTRC_(Increase) / Decrease In Stocks'][results1['QTRC_(Increase) / Decrease In Stocks'] < 0])\n"
     ]
    },
    {
     "name": "stdout",
     "output_type": "stream",
     "text": [
      "Error occurred  for Adani Enterprises Ltd.: cannot reindex on an axis with duplicate labels\n"
     ]
    },
    {
     "name": "stderr",
     "output_type": "stream",
     "text": [
      "C:\\Users\\99111\\AppData\\Local\\Temp\\ipykernel_8468\\3680331057.py:10: FutureWarning: reindexing with a non-unique Index is deprecated and will raise in a future version.\n",
      "  results1['Increaseinstock'] = -1 * (results1['QTRC_(Increase) / Decrease In Stocks'][results1['QTRC_(Increase) / Decrease In Stocks'] < 0])\n"
     ]
    },
    {
     "name": "stdout",
     "output_type": "stream",
     "text": [
      "Error occurred  for Delta Corp Ltd.: cannot reindex on an axis with duplicate labels\n"
     ]
    },
    {
     "name": "stderr",
     "output_type": "stream",
     "text": [
      "C:\\Users\\99111\\AppData\\Local\\Temp\\ipykernel_8468\\3680331057.py:10: FutureWarning: reindexing with a non-unique Index is deprecated and will raise in a future version.\n",
      "  results1['Increaseinstock'] = -1 * (results1['QTRC_(Increase) / Decrease In Stocks'][results1['QTRC_(Increase) / Decrease In Stocks'] < 0])\n"
     ]
    },
    {
     "name": "stdout",
     "output_type": "stream",
     "text": [
      "Error occurred  for Accel Ltd.: cannot reindex on an axis with duplicate labels\n"
     ]
    },
    {
     "name": "stderr",
     "output_type": "stream",
     "text": [
      "C:\\Users\\99111\\AppData\\Local\\Temp\\ipykernel_8468\\3680331057.py:10: FutureWarning: reindexing with a non-unique Index is deprecated and will raise in a future version.\n",
      "  results1['Increaseinstock'] = -1 * (results1['QTRC_(Increase) / Decrease In Stocks'][results1['QTRC_(Increase) / Decrease In Stocks'] < 0])\n",
      "C:\\Users\\99111\\AppData\\Local\\Temp\\ipykernel_8468\\3680331057.py:10: FutureWarning: reindexing with a non-unique Index is deprecated and will raise in a future version.\n",
      "  results1['Increaseinstock'] = -1 * (results1['QTRC_(Increase) / Decrease In Stocks'][results1['QTRC_(Increase) / Decrease In Stocks'] < 0])\n"
     ]
    },
    {
     "name": "stdout",
     "output_type": "stream",
     "text": [
      "Error occurred  for Kansai Nerolac Paints Ltd.: cannot reindex on an axis with duplicate labels\n",
      "Error occurred  for Faze Three Ltd.: cannot reindex on an axis with duplicate labels\n"
     ]
    },
    {
     "name": "stderr",
     "output_type": "stream",
     "text": [
      "C:\\Users\\99111\\AppData\\Local\\Temp\\ipykernel_8468\\3680331057.py:10: FutureWarning: reindexing with a non-unique Index is deprecated and will raise in a future version.\n",
      "  results1['Increaseinstock'] = -1 * (results1['QTRC_(Increase) / Decrease In Stocks'][results1['QTRC_(Increase) / Decrease In Stocks'] < 0])\n"
     ]
    },
    {
     "name": "stdout",
     "output_type": "stream",
     "text": [
      "Error occurred  for KEC International Ltd.: cannot reindex on an axis with duplicate labels\n"
     ]
    },
    {
     "name": "stderr",
     "output_type": "stream",
     "text": [
      "C:\\Users\\99111\\AppData\\Local\\Temp\\ipykernel_8468\\3680331057.py:10: FutureWarning: reindexing with a non-unique Index is deprecated and will raise in a future version.\n",
      "  results1['Increaseinstock'] = -1 * (results1['QTRC_(Increase) / Decrease In Stocks'][results1['QTRC_(Increase) / Decrease In Stocks'] < 0])\n",
      "C:\\Users\\99111\\AppData\\Local\\Temp\\ipykernel_8468\\3680331057.py:10: FutureWarning: reindexing with a non-unique Index is deprecated and will raise in a future version.\n",
      "  results1['Increaseinstock'] = -1 * (results1['QTRC_(Increase) / Decrease In Stocks'][results1['QTRC_(Increase) / Decrease In Stocks'] < 0])\n",
      "C:\\Users\\99111\\AppData\\Local\\Temp\\ipykernel_8468\\3680331057.py:10: FutureWarning: reindexing with a non-unique Index is deprecated and will raise in a future version.\n",
      "  results1['Increaseinstock'] = -1 * (results1['QTRC_(Increase) / Decrease In Stocks'][results1['QTRC_(Increase) / Decrease In Stocks'] < 0])\n"
     ]
    },
    {
     "name": "stdout",
     "output_type": "stream",
     "text": [
      "Error occurred  for Arihant Superstructures Ltd.: cannot reindex on an axis with duplicate labels\n",
      "Error occurred  for Lloyds Metals & Energy Ltd.: cannot reindex on an axis with duplicate labels\n",
      "Error occurred  for DB Realty Ltd.: cannot reindex on an axis with duplicate labels\n"
     ]
    },
    {
     "name": "stderr",
     "output_type": "stream",
     "text": [
      "C:\\Users\\99111\\AppData\\Local\\Temp\\ipykernel_8468\\3680331057.py:10: FutureWarning: reindexing with a non-unique Index is deprecated and will raise in a future version.\n",
      "  results1['Increaseinstock'] = -1 * (results1['QTRC_(Increase) / Decrease In Stocks'][results1['QTRC_(Increase) / Decrease In Stocks'] < 0])\n"
     ]
    },
    {
     "name": "stdout",
     "output_type": "stream",
     "text": [
      "Error occurred  for Arvind Ltd.: cannot reindex on an axis with duplicate labels\n"
     ]
    },
    {
     "name": "stderr",
     "output_type": "stream",
     "text": [
      "C:\\Users\\99111\\AppData\\Local\\Temp\\ipykernel_8468\\3680331057.py:10: FutureWarning: reindexing with a non-unique Index is deprecated and will raise in a future version.\n",
      "  results1['Increaseinstock'] = -1 * (results1['QTRC_(Increase) / Decrease In Stocks'][results1['QTRC_(Increase) / Decrease In Stocks'] < 0])\n"
     ]
    },
    {
     "name": "stdout",
     "output_type": "stream",
     "text": [
      "Error occurred  for JBM Auto Ltd.: cannot reindex on an axis with duplicate labels\n"
     ]
    },
    {
     "name": "stderr",
     "output_type": "stream",
     "text": [
      "C:\\Users\\99111\\AppData\\Local\\Temp\\ipykernel_8468\\3680331057.py:10: FutureWarning: reindexing with a non-unique Index is deprecated and will raise in a future version.\n",
      "  results1['Increaseinstock'] = -1 * (results1['QTRC_(Increase) / Decrease In Stocks'][results1['QTRC_(Increase) / Decrease In Stocks'] < 0])\n"
     ]
    },
    {
     "name": "stdout",
     "output_type": "stream",
     "text": [
      "Error occurred  for Kajaria Ceramics Ltd.: cannot reindex on an axis with duplicate labels\n"
     ]
    },
    {
     "name": "stderr",
     "output_type": "stream",
     "text": [
      "C:\\Users\\99111\\AppData\\Local\\Temp\\ipykernel_8468\\3680331057.py:10: FutureWarning: reindexing with a non-unique Index is deprecated and will raise in a future version.\n",
      "  results1['Increaseinstock'] = -1 * (results1['QTRC_(Increase) / Decrease In Stocks'][results1['QTRC_(Increase) / Decrease In Stocks'] < 0])\n"
     ]
    },
    {
     "name": "stdout",
     "output_type": "stream",
     "text": [
      "Error occurred  for Kaveri Seed Company Ltd.: cannot reindex on an axis with duplicate labels\n"
     ]
    },
    {
     "name": "stderr",
     "output_type": "stream",
     "text": [
      "C:\\Users\\99111\\AppData\\Local\\Temp\\ipykernel_8468\\3680331057.py:10: FutureWarning: reindexing with a non-unique Index is deprecated and will raise in a future version.\n",
      "  results1['Increaseinstock'] = -1 * (results1['QTRC_(Increase) / Decrease In Stocks'][results1['QTRC_(Increase) / Decrease In Stocks'] < 0])\n"
     ]
    },
    {
     "name": "stdout",
     "output_type": "stream",
     "text": [
      "Error occurred  for Kiran Vyapar Ltd.: cannot reindex on an axis with duplicate labels\n"
     ]
    },
    {
     "name": "stderr",
     "output_type": "stream",
     "text": [
      "C:\\Users\\99111\\AppData\\Local\\Temp\\ipykernel_8468\\3680331057.py:10: FutureWarning: reindexing with a non-unique Index is deprecated and will raise in a future version.\n",
      "  results1['Increaseinstock'] = -1 * (results1['QTRC_(Increase) / Decrease In Stocks'][results1['QTRC_(Increase) / Decrease In Stocks'] < 0])\n"
     ]
    },
    {
     "name": "stdout",
     "output_type": "stream",
     "text": [
      "Error occurred  for Ador Fontech Ltd.: cannot reindex on an axis with duplicate labels\n"
     ]
    },
    {
     "name": "stderr",
     "output_type": "stream",
     "text": [
      "C:\\Users\\99111\\AppData\\Local\\Temp\\ipykernel_8468\\3680331057.py:10: FutureWarning: reindexing with a non-unique Index is deprecated and will raise in a future version.\n",
      "  results1['Increaseinstock'] = -1 * (results1['QTRC_(Increase) / Decrease In Stocks'][results1['QTRC_(Increase) / Decrease In Stocks'] < 0])\n",
      "C:\\Users\\99111\\AppData\\Local\\Temp\\ipykernel_8468\\3680331057.py:10: FutureWarning: reindexing with a non-unique Index is deprecated and will raise in a future version.\n",
      "  results1['Increaseinstock'] = -1 * (results1['QTRC_(Increase) / Decrease In Stocks'][results1['QTRC_(Increase) / Decrease In Stocks'] < 0])\n"
     ]
    },
    {
     "name": "stdout",
     "output_type": "stream",
     "text": [
      "Error occurred  for Arvind Smartspaces Ltd.: cannot reindex on an axis with duplicate labels\n",
      "Error occurred  for Arrow Greentech Ltd.: cannot reindex on an axis with duplicate labels\n"
     ]
    },
    {
     "name": "stderr",
     "output_type": "stream",
     "text": [
      "C:\\Users\\99111\\AppData\\Local\\Temp\\ipykernel_8468\\3680331057.py:10: FutureWarning: reindexing with a non-unique Index is deprecated and will raise in a future version.\n",
      "  results1['Increaseinstock'] = -1 * (results1['QTRC_(Increase) / Decrease In Stocks'][results1['QTRC_(Increase) / Decrease In Stocks'] < 0])\n"
     ]
    },
    {
     "name": "stdout",
     "output_type": "stream",
     "text": [
      "Error occurred  for Krishna Capital And Securities Ltd.: cannot reindex on an axis with duplicate labels\n",
      "Error occurred  for Aarti Drugs Ltd.: cannot reindex on an axis with duplicate labels\n"
     ]
    },
    {
     "name": "stderr",
     "output_type": "stream",
     "text": [
      "C:\\Users\\99111\\AppData\\Local\\Temp\\ipykernel_8468\\3680331057.py:10: FutureWarning: reindexing with a non-unique Index is deprecated and will raise in a future version.\n",
      "  results1['Increaseinstock'] = -1 * (results1['QTRC_(Increase) / Decrease In Stocks'][results1['QTRC_(Increase) / Decrease In Stocks'] < 0])\n",
      "C:\\Users\\99111\\AppData\\Local\\Temp\\ipykernel_8468\\3680331057.py:10: FutureWarning: reindexing with a non-unique Index is deprecated and will raise in a future version.\n",
      "  results1['Increaseinstock'] = -1 * (results1['QTRC_(Increase) / Decrease In Stocks'][results1['QTRC_(Increase) / Decrease In Stocks'] < 0])\n"
     ]
    },
    {
     "name": "stdout",
     "output_type": "stream",
     "text": [
      "Error occurred  for Laurus Labs Ltd.: cannot reindex on an axis with duplicate labels\n",
      "Error occurred  for HFCL Ltd.: cannot reindex on an axis with duplicate labels\n"
     ]
    },
    {
     "name": "stderr",
     "output_type": "stream",
     "text": [
      "C:\\Users\\99111\\AppData\\Local\\Temp\\ipykernel_8468\\3680331057.py:10: FutureWarning: reindexing with a non-unique Index is deprecated and will raise in a future version.\n",
      "  results1['Increaseinstock'] = -1 * (results1['QTRC_(Increase) / Decrease In Stocks'][results1['QTRC_(Increase) / Decrease In Stocks'] < 0])\n"
     ]
    },
    {
     "name": "stdout",
     "output_type": "stream",
     "text": [
      "Error occurred  for Godrej Agrovet Ltd.: cannot reindex on an axis with duplicate labels\n"
     ]
    },
    {
     "name": "stderr",
     "output_type": "stream",
     "text": [
      "C:\\Users\\99111\\AppData\\Local\\Temp\\ipykernel_8468\\3680331057.py:10: FutureWarning: reindexing with a non-unique Index is deprecated and will raise in a future version.\n",
      "  results1['Increaseinstock'] = -1 * (results1['QTRC_(Increase) / Decrease In Stocks'][results1['QTRC_(Increase) / Decrease In Stocks'] < 0])\n"
     ]
    },
    {
     "name": "stdout",
     "output_type": "stream",
     "text": [
      "Error occurred  for Jash Engineering Ltd.: cannot reindex on an axis with duplicate labels\n"
     ]
    },
    {
     "name": "stderr",
     "output_type": "stream",
     "text": [
      "C:\\Users\\99111\\AppData\\Local\\Temp\\ipykernel_8468\\3680331057.py:10: FutureWarning: reindexing with a non-unique Index is deprecated and will raise in a future version.\n",
      "  results1['Increaseinstock'] = -1 * (results1['QTRC_(Increase) / Decrease In Stocks'][results1['QTRC_(Increase) / Decrease In Stocks'] < 0])\n"
     ]
    },
    {
     "name": "stdout",
     "output_type": "stream",
     "text": [
      "Error occurred  for Indian Oil Corporation Ltd.: cannot reindex on an axis with duplicate labels\n"
     ]
    },
    {
     "name": "stderr",
     "output_type": "stream",
     "text": [
      "C:\\Users\\99111\\AppData\\Local\\Temp\\ipykernel_8468\\3680331057.py:10: FutureWarning: reindexing with a non-unique Index is deprecated and will raise in a future version.\n",
      "  results1['Increaseinstock'] = -1 * (results1['QTRC_(Increase) / Decrease In Stocks'][results1['QTRC_(Increase) / Decrease In Stocks'] < 0])\n",
      "C:\\Users\\99111\\AppData\\Local\\Temp\\ipykernel_8468\\3680331057.py:10: FutureWarning: reindexing with a non-unique Index is deprecated and will raise in a future version.\n",
      "  results1['Increaseinstock'] = -1 * (results1['QTRC_(Increase) / Decrease In Stocks'][results1['QTRC_(Increase) / Decrease In Stocks'] < 0])\n"
     ]
    },
    {
     "name": "stdout",
     "output_type": "stream",
     "text": [
      "Error occurred  for 3M India Ltd.: cannot reindex on an axis with duplicate labels\n",
      "Error occurred  for Dalmia Bharat Ltd.: cannot reindex on an axis with duplicate labels\n"
     ]
    },
    {
     "name": "stderr",
     "output_type": "stream",
     "text": [
      "C:\\Users\\99111\\AppData\\Local\\Temp\\ipykernel_8468\\3680331057.py:10: FutureWarning: reindexing with a non-unique Index is deprecated and will raise in a future version.\n",
      "  results1['Increaseinstock'] = -1 * (results1['QTRC_(Increase) / Decrease In Stocks'][results1['QTRC_(Increase) / Decrease In Stocks'] < 0])\n"
     ]
    },
    {
     "name": "stdout",
     "output_type": "stream",
     "text": [
      "Error occurred  for Arvind Fashions Ltd.: cannot reindex on an axis with duplicate labels\n"
     ]
    },
    {
     "name": "stderr",
     "output_type": "stream",
     "text": [
      "C:\\Users\\99111\\AppData\\Local\\Temp\\ipykernel_8468\\3680331057.py:10: FutureWarning: reindexing with a non-unique Index is deprecated and will raise in a future version.\n",
      "  results1['Increaseinstock'] = -1 * (results1['QTRC_(Increase) / Decrease In Stocks'][results1['QTRC_(Increase) / Decrease In Stocks'] < 0])\n"
     ]
    },
    {
     "name": "stdout",
     "output_type": "stream",
     "text": [
      "Error occurred  for KEI Industries Ltd.: cannot reindex on an axis with duplicate labels\n"
     ]
    },
    {
     "name": "stderr",
     "output_type": "stream",
     "text": [
      "C:\\Users\\99111\\AppData\\Local\\Temp\\ipykernel_8468\\3680331057.py:10: FutureWarning: reindexing with a non-unique Index is deprecated and will raise in a future version.\n",
      "  results1['Increaseinstock'] = -1 * (results1['QTRC_(Increase) / Decrease In Stocks'][results1['QTRC_(Increase) / Decrease In Stocks'] < 0])\n"
     ]
    },
    {
     "name": "stdout",
     "output_type": "stream",
     "text": [
      "Error occurred  for Haldyn Glass Ltd.: cannot reindex on an axis with duplicate labels\n"
     ]
    },
    {
     "name": "stderr",
     "output_type": "stream",
     "text": [
      "C:\\Users\\99111\\AppData\\Local\\Temp\\ipykernel_8468\\3680331057.py:10: FutureWarning: reindexing with a non-unique Index is deprecated and will raise in a future version.\n",
      "  results1['Increaseinstock'] = -1 * (results1['QTRC_(Increase) / Decrease In Stocks'][results1['QTRC_(Increase) / Decrease In Stocks'] < 0])\n"
     ]
    },
    {
     "name": "stdout",
     "output_type": "stream",
     "text": [
      "Error occurred  for Finolex Industries Ltd.: cannot reindex on an axis with duplicate labels\n"
     ]
    },
    {
     "name": "stderr",
     "output_type": "stream",
     "text": [
      "C:\\Users\\99111\\AppData\\Local\\Temp\\ipykernel_8468\\3680331057.py:10: FutureWarning: reindexing with a non-unique Index is deprecated and will raise in a future version.\n",
      "  results1['Increaseinstock'] = -1 * (results1['QTRC_(Increase) / Decrease In Stocks'][results1['QTRC_(Increase) / Decrease In Stocks'] < 0])\n",
      "C:\\Users\\99111\\AppData\\Local\\Temp\\ipykernel_8468\\3680331057.py:10: FutureWarning: reindexing with a non-unique Index is deprecated and will raise in a future version.\n",
      "  results1['Increaseinstock'] = -1 * (results1['QTRC_(Increase) / Decrease In Stocks'][results1['QTRC_(Increase) / Decrease In Stocks'] < 0])\n"
     ]
    },
    {
     "name": "stdout",
     "output_type": "stream",
     "text": [
      "Error occurred  for Exide Industries Ltd.: cannot reindex on an axis with duplicate labels\n",
      "Error occurred  for Everest Industries Ltd.: cannot reindex on an axis with duplicate labels\n"
     ]
    },
    {
     "name": "stderr",
     "output_type": "stream",
     "text": [
      "C:\\Users\\99111\\AppData\\Local\\Temp\\ipykernel_8468\\3680331057.py:10: FutureWarning: reindexing with a non-unique Index is deprecated and will raise in a future version.\n",
      "  results1['Increaseinstock'] = -1 * (results1['QTRC_(Increase) / Decrease In Stocks'][results1['QTRC_(Increase) / Decrease In Stocks'] < 0])\n"
     ]
    },
    {
     "name": "stdout",
     "output_type": "stream",
     "text": [
      "Error occurred  for Dalmia Bharat Sugar And Industries Ltd.: cannot reindex on an axis with duplicate labels\n"
     ]
    },
    {
     "name": "stderr",
     "output_type": "stream",
     "text": [
      "C:\\Users\\99111\\AppData\\Local\\Temp\\ipykernel_8468\\3680331057.py:10: FutureWarning: reindexing with a non-unique Index is deprecated and will raise in a future version.\n",
      "  results1['Increaseinstock'] = -1 * (results1['QTRC_(Increase) / Decrease In Stocks'][results1['QTRC_(Increase) / Decrease In Stocks'] < 0])\n"
     ]
    },
    {
     "name": "stdout",
     "output_type": "stream",
     "text": [
      "Error occurred  for Kabra Extrusiontechnik Ltd.: cannot reindex on an axis with duplicate labels\n"
     ]
    },
    {
     "name": "stderr",
     "output_type": "stream",
     "text": [
      "C:\\Users\\99111\\AppData\\Local\\Temp\\ipykernel_8468\\3680331057.py:10: FutureWarning: reindexing with a non-unique Index is deprecated and will raise in a future version.\n",
      "  results1['Increaseinstock'] = -1 * (results1['QTRC_(Increase) / Decrease In Stocks'][results1['QTRC_(Increase) / Decrease In Stocks'] < 0])\n"
     ]
    },
    {
     "name": "stdout",
     "output_type": "stream",
     "text": [
      "Error occurred  for JK Cement Ltd.: cannot reindex on an axis with duplicate labels\n"
     ]
    },
    {
     "name": "stderr",
     "output_type": "stream",
     "text": [
      "C:\\Users\\99111\\AppData\\Local\\Temp\\ipykernel_8468\\3680331057.py:10: FutureWarning: reindexing with a non-unique Index is deprecated and will raise in a future version.\n",
      "  results1['Increaseinstock'] = -1 * (results1['QTRC_(Increase) / Decrease In Stocks'][results1['QTRC_(Increase) / Decrease In Stocks'] < 0])\n",
      "C:\\Users\\99111\\AppData\\Local\\Temp\\ipykernel_8468\\3680331057.py:10: FutureWarning: reindexing with a non-unique Index is deprecated and will raise in a future version.\n",
      "  results1['Increaseinstock'] = -1 * (results1['QTRC_(Increase) / Decrease In Stocks'][results1['QTRC_(Increase) / Decrease In Stocks'] < 0])\n"
     ]
    },
    {
     "name": "stdout",
     "output_type": "stream",
     "text": [
      "Error occurred  for Jubilant FoodWorks Ltd.: cannot reindex on an axis with duplicate labels\n",
      "Error occurred  for JostS Engineering Company Ltd.: cannot reindex on an axis with duplicate labels\n"
     ]
    },
    {
     "name": "stderr",
     "output_type": "stream",
     "text": [
      "C:\\Users\\99111\\AppData\\Local\\Temp\\ipykernel_8468\\3680331057.py:10: FutureWarning: reindexing with a non-unique Index is deprecated and will raise in a future version.\n",
      "  results1['Increaseinstock'] = -1 * (results1['QTRC_(Increase) / Decrease In Stocks'][results1['QTRC_(Increase) / Decrease In Stocks'] < 0])\n",
      "C:\\Users\\99111\\AppData\\Local\\Temp\\ipykernel_8468\\3680331057.py:10: FutureWarning: reindexing with a non-unique Index is deprecated and will raise in a future version.\n",
      "  results1['Increaseinstock'] = -1 * (results1['QTRC_(Increase) / Decrease In Stocks'][results1['QTRC_(Increase) / Decrease In Stocks'] < 0])\n"
     ]
    },
    {
     "name": "stdout",
     "output_type": "stream",
     "text": [
      "Error occurred  for AMJ Land Holdings Ltd.: cannot reindex on an axis with duplicate labels\n",
      "Error occurred  for Andrew Yule & Company Ltd.: cannot reindex on an axis with duplicate labels\n",
      "Error occurred  for Himadri Speciality Chemical Ltd.: cannot reindex on an axis with duplicate labels\n"
     ]
    },
    {
     "name": "stderr",
     "output_type": "stream",
     "text": [
      "C:\\Users\\99111\\AppData\\Local\\Temp\\ipykernel_8468\\3680331057.py:10: FutureWarning: reindexing with a non-unique Index is deprecated and will raise in a future version.\n",
      "  results1['Increaseinstock'] = -1 * (results1['QTRC_(Increase) / Decrease In Stocks'][results1['QTRC_(Increase) / Decrease In Stocks'] < 0])\n"
     ]
    },
    {
     "name": "stdout",
     "output_type": "stream",
     "text": [
      "Error occurred  for Hindustan Unilever Ltd.: cannot reindex on an axis with duplicate labels\n"
     ]
    },
    {
     "name": "stderr",
     "output_type": "stream",
     "text": [
      "C:\\Users\\99111\\AppData\\Local\\Temp\\ipykernel_8468\\3680331057.py:10: FutureWarning: reindexing with a non-unique Index is deprecated and will raise in a future version.\n",
      "  results1['Increaseinstock'] = -1 * (results1['QTRC_(Increase) / Decrease In Stocks'][results1['QTRC_(Increase) / Decrease In Stocks'] < 0])\n"
     ]
    },
    {
     "name": "stdout",
     "output_type": "stream",
     "text": [
      "Error occurred  for 20 Microns Ltd.: cannot reindex on an axis with duplicate labels\n"
     ]
    },
    {
     "name": "stderr",
     "output_type": "stream",
     "text": [
      "C:\\Users\\99111\\AppData\\Local\\Temp\\ipykernel_8468\\3680331057.py:10: FutureWarning: reindexing with a non-unique Index is deprecated and will raise in a future version.\n",
      "  results1['Increaseinstock'] = -1 * (results1['QTRC_(Increase) / Decrease In Stocks'][results1['QTRC_(Increase) / Decrease In Stocks'] < 0])\n",
      "C:\\Users\\99111\\AppData\\Local\\Temp\\ipykernel_8468\\3680331057.py:10: FutureWarning: reindexing with a non-unique Index is deprecated and will raise in a future version.\n",
      "  results1['Increaseinstock'] = -1 * (results1['QTRC_(Increase) / Decrease In Stocks'][results1['QTRC_(Increase) / Decrease In Stocks'] < 0])\n",
      "C:\\Users\\99111\\AppData\\Local\\Temp\\ipykernel_8468\\3680331057.py:10: FutureWarning: reindexing with a non-unique Index is deprecated and will raise in a future version.\n",
      "  results1['Increaseinstock'] = -1 * (results1['QTRC_(Increase) / Decrease In Stocks'][results1['QTRC_(Increase) / Decrease In Stocks'] < 0])\n"
     ]
    },
    {
     "name": "stdout",
     "output_type": "stream",
     "text": [
      "Error occurred  for Jai Balaji Industries Ltd.: cannot reindex on an axis with duplicate labels\n",
      "Error occurred  for Action Construction Equipment Ltd.: cannot reindex on an axis with duplicate labels\n",
      "Error occurred  for ABM International Ltd.: cannot reindex on an axis with duplicate labels\n"
     ]
    },
    {
     "name": "stderr",
     "output_type": "stream",
     "text": [
      "C:\\Users\\99111\\AppData\\Local\\Temp\\ipykernel_8468\\3680331057.py:10: FutureWarning: reindexing with a non-unique Index is deprecated and will raise in a future version.\n",
      "  results1['Increaseinstock'] = -1 * (results1['QTRC_(Increase) / Decrease In Stocks'][results1['QTRC_(Increase) / Decrease In Stocks'] < 0])\n"
     ]
    },
    {
     "name": "stdout",
     "output_type": "stream",
     "text": [
      "Error occurred  for Aarti Industries Ltd.: cannot reindex on an axis with duplicate labels\n"
     ]
    },
    {
     "name": "stderr",
     "output_type": "stream",
     "text": [
      "C:\\Users\\99111\\AppData\\Local\\Temp\\ipykernel_8468\\3680331057.py:10: FutureWarning: reindexing with a non-unique Index is deprecated and will raise in a future version.\n",
      "  results1['Increaseinstock'] = -1 * (results1['QTRC_(Increase) / Decrease In Stocks'][results1['QTRC_(Increase) / Decrease In Stocks'] < 0])\n"
     ]
    },
    {
     "name": "stdout",
     "output_type": "stream",
     "text": [
      "Error occurred  for Linde India Ltd.: cannot reindex on an axis with duplicate labels\n"
     ]
    },
    {
     "name": "stderr",
     "output_type": "stream",
     "text": [
      "C:\\Users\\99111\\AppData\\Local\\Temp\\ipykernel_8468\\3680331057.py:10: FutureWarning: reindexing with a non-unique Index is deprecated and will raise in a future version.\n",
      "  results1['Increaseinstock'] = -1 * (results1['QTRC_(Increase) / Decrease In Stocks'][results1['QTRC_(Increase) / Decrease In Stocks'] < 0])\n"
     ]
    },
    {
     "name": "stdout",
     "output_type": "stream",
     "text": [
      "Error occurred  for ABans Enterprises Ltd.: cannot reindex on an axis with duplicate labels\n"
     ]
    },
    {
     "name": "stderr",
     "output_type": "stream",
     "text": [
      "C:\\Users\\99111\\AppData\\Local\\Temp\\ipykernel_8468\\3680331057.py:10: FutureWarning: reindexing with a non-unique Index is deprecated and will raise in a future version.\n",
      "  results1['Increaseinstock'] = -1 * (results1['QTRC_(Increase) / Decrease In Stocks'][results1['QTRC_(Increase) / Decrease In Stocks'] < 0])\n"
     ]
    },
    {
     "name": "stdout",
     "output_type": "stream",
     "text": [
      "Error occurred  for Apollo Micro Systems Ltd.: cannot reindex on an axis with duplicate labels\n"
     ]
    },
    {
     "name": "stderr",
     "output_type": "stream",
     "text": [
      "C:\\Users\\99111\\AppData\\Local\\Temp\\ipykernel_8468\\3680331057.py:10: FutureWarning: reindexing with a non-unique Index is deprecated and will raise in a future version.\n",
      "  results1['Increaseinstock'] = -1 * (results1['QTRC_(Increase) / Decrease In Stocks'][results1['QTRC_(Increase) / Decrease In Stocks'] < 0])\n"
     ]
    },
    {
     "name": "stdout",
     "output_type": "stream",
     "text": [
      "Error occurred  for Dodla Dairy Ltd: cannot reindex on an axis with duplicate labels\n"
     ]
    },
    {
     "name": "stderr",
     "output_type": "stream",
     "text": [
      "C:\\Users\\99111\\AppData\\Local\\Temp\\ipykernel_8468\\3680331057.py:10: FutureWarning: reindexing with a non-unique Index is deprecated and will raise in a future version.\n",
      "  results1['Increaseinstock'] = -1 * (results1['QTRC_(Increase) / Decrease In Stocks'][results1['QTRC_(Increase) / Decrease In Stocks'] < 0])\n",
      "C:\\Users\\99111\\AppData\\Local\\Temp\\ipykernel_8468\\3680331057.py:10: FutureWarning: reindexing with a non-unique Index is deprecated and will raise in a future version.\n",
      "  results1['Increaseinstock'] = -1 * (results1['QTRC_(Increase) / Decrease In Stocks'][results1['QTRC_(Increase) / Decrease In Stocks'] < 0])\n"
     ]
    },
    {
     "name": "stdout",
     "output_type": "stream",
     "text": [
      "Error occurred  for Kalyan Jewellers India Ltd.: cannot reindex on an axis with duplicate labels\n",
      "Error occurred  for Aarti Surfactants Ltd.: cannot reindex on an axis with duplicate labels\n"
     ]
    },
    {
     "name": "stderr",
     "output_type": "stream",
     "text": [
      "C:\\Users\\99111\\AppData\\Local\\Temp\\ipykernel_8468\\3680331057.py:10: FutureWarning: reindexing with a non-unique Index is deprecated and will raise in a future version.\n",
      "  results1['Increaseinstock'] = -1 * (results1['QTRC_(Increase) / Decrease In Stocks'][results1['QTRC_(Increase) / Decrease In Stocks'] < 0])\n"
     ]
    },
    {
     "name": "stdout",
     "output_type": "stream",
     "text": [
      "Error occurred  for Clean Science And Technology Ltd.: cannot reindex on an axis with duplicate labels\n"
     ]
    },
    {
     "name": "stderr",
     "output_type": "stream",
     "text": [
      "C:\\Users\\99111\\AppData\\Local\\Temp\\ipykernel_8468\\3680331057.py:10: FutureWarning: reindexing with a non-unique Index is deprecated and will raise in a future version.\n",
      "  results1['Increaseinstock'] = -1 * (results1['QTRC_(Increase) / Decrease In Stocks'][results1['QTRC_(Increase) / Decrease In Stocks'] < 0])\n"
     ]
    },
    {
     "name": "stdout",
     "output_type": "stream",
     "text": [
      "Error occurred  for Hindustan Zinc Ltd.: cannot reindex on an axis with duplicate labels\n"
     ]
    },
    {
     "name": "stderr",
     "output_type": "stream",
     "text": [
      "C:\\Users\\99111\\AppData\\Local\\Temp\\ipykernel_8468\\3680331057.py:10: FutureWarning: reindexing with a non-unique Index is deprecated and will raise in a future version.\n",
      "  results1['Increaseinstock'] = -1 * (results1['QTRC_(Increase) / Decrease In Stocks'][results1['QTRC_(Increase) / Decrease In Stocks'] < 0])\n"
     ]
    },
    {
     "name": "stdout",
     "output_type": "stream",
     "text": [
      "Error occurred  for JTL Industries Ltd: cannot reindex on an axis with duplicate labels\n"
     ]
    },
    {
     "name": "stderr",
     "output_type": "stream",
     "text": [
      "C:\\Users\\99111\\AppData\\Local\\Temp\\ipykernel_8468\\3680331057.py:10: FutureWarning: reindexing with a non-unique Index is deprecated and will raise in a future version.\n",
      "  results1['Increaseinstock'] = -1 * (results1['QTRC_(Increase) / Decrease In Stocks'][results1['QTRC_(Increase) / Decrease In Stocks'] < 0])\n"
     ]
    },
    {
     "name": "stdout",
     "output_type": "stream",
     "text": [
      "Error occurred  for Jupiter Wagons Ltd.: cannot reindex on an axis with duplicate labels\n"
     ]
    },
    {
     "name": "stderr",
     "output_type": "stream",
     "text": [
      "C:\\Users\\99111\\AppData\\Local\\Temp\\ipykernel_8468\\3680331057.py:10: FutureWarning: reindexing with a non-unique Index is deprecated and will raise in a future version.\n",
      "  results1['Increaseinstock'] = -1 * (results1['QTRC_(Increase) / Decrease In Stocks'][results1['QTRC_(Increase) / Decrease In Stocks'] < 0])\n"
     ]
    },
    {
     "name": "stdout",
     "output_type": "stream",
     "text": [
      "Error occurred  for Kaynes Technology India Ltd.: cannot reindex on an axis with duplicate labels\n"
     ]
    },
    {
     "name": "stderr",
     "output_type": "stream",
     "text": [
      "C:\\Users\\99111\\AppData\\Local\\Temp\\ipykernel_8468\\3680331057.py:10: FutureWarning: reindexing with a non-unique Index is deprecated and will raise in a future version.\n",
      "  results1['Increaseinstock'] = -1 * (results1['QTRC_(Increase) / Decrease In Stocks'][results1['QTRC_(Increase) / Decrease In Stocks'] < 0])\n"
     ]
    },
    {
     "name": "stdout",
     "output_type": "stream",
     "text": [
      "Error occurred  for Gulf Oil Lubricants India Ltd.: cannot reindex on an axis with duplicate labels\n"
     ]
    },
    {
     "name": "stderr",
     "output_type": "stream",
     "text": [
      "C:\\Users\\99111\\AppData\\Local\\Temp\\ipykernel_8468\\3680331057.py:10: FutureWarning: reindexing with a non-unique Index is deprecated and will raise in a future version.\n",
      "  results1['Increaseinstock'] = -1 * (results1['QTRC_(Increase) / Decrease In Stocks'][results1['QTRC_(Increase) / Decrease In Stocks'] < 0])\n"
     ]
    },
    {
     "name": "stdout",
     "output_type": "stream",
     "text": [
      "Error occurred  for Aarti Pharmalabs Ltd.: cannot reindex on an axis with duplicate labels\n"
     ]
    },
    {
     "name": "stderr",
     "output_type": "stream",
     "text": [
      "C:\\Users\\99111\\AppData\\Local\\Temp\\ipykernel_8468\\3680331057.py:10: FutureWarning: reindexing with a non-unique Index is deprecated and will raise in a future version.\n",
      "  results1['Increaseinstock'] = -1 * (results1['QTRC_(Increase) / Decrease In Stocks'][results1['QTRC_(Increase) / Decrease In Stocks'] < 0])\n"
     ]
    },
    {
     "name": "stdout",
     "output_type": "stream",
     "text": [
      "Error occurred  for Ideaforge Technology Ltd.: cannot reindex on an axis with duplicate labels\n"
     ]
    },
    {
     "name": "stderr",
     "output_type": "stream",
     "text": [
      "C:\\Users\\99111\\AppData\\Local\\Temp\\ipykernel_8468\\3680331057.py:10: FutureWarning: reindexing with a non-unique Index is deprecated and will raise in a future version.\n",
      "  results1['Increaseinstock'] = -1 * (results1['QTRC_(Increase) / Decrease In Stocks'][results1['QTRC_(Increase) / Decrease In Stocks'] < 0])\n",
      "C:\\Users\\99111\\AppData\\Local\\Temp\\ipykernel_8468\\3680331057.py:10: FutureWarning: reindexing with a non-unique Index is deprecated and will raise in a future version.\n",
      "  results1['Increaseinstock'] = -1 * (results1['QTRC_(Increase) / Decrease In Stocks'][results1['QTRC_(Increase) / Decrease In Stocks'] < 0])\n"
     ]
    },
    {
     "name": "stdout",
     "output_type": "stream",
     "text": [
      "Error occurred  for Dhatre Udyog Ltd.: cannot reindex on an axis with duplicate labels\n",
      "Error occurred  for G-Tec Jainx Education Ltd.: cannot reindex on an axis with duplicate labels\n"
     ]
    },
    {
     "name": "stderr",
     "output_type": "stream",
     "text": [
      "C:\\Users\\99111\\AppData\\Local\\Temp\\ipykernel_8468\\3680331057.py:10: FutureWarning: reindexing with a non-unique Index is deprecated and will raise in a future version.\n",
      "  results1['Increaseinstock'] = -1 * (results1['QTRC_(Increase) / Decrease In Stocks'][results1['QTRC_(Increase) / Decrease In Stocks'] < 0])\n"
     ]
    },
    {
     "name": "stdout",
     "output_type": "stream",
     "text": [
      "Error occurred  for Lloyds Enterprises Ltd.: cannot reindex on an axis with duplicate labels\n"
     ]
    },
    {
     "name": "stderr",
     "output_type": "stream",
     "text": [
      "C:\\Users\\99111\\AppData\\Local\\Temp\\ipykernel_8468\\3680331057.py:10: FutureWarning: reindexing with a non-unique Index is deprecated and will raise in a future version.\n",
      "  results1['Increaseinstock'] = -1 * (results1['QTRC_(Increase) / Decrease In Stocks'][results1['QTRC_(Increase) / Decrease In Stocks'] < 0])\n"
     ]
    },
    {
     "name": "stdout",
     "output_type": "stream",
     "text": [
      "Error occurred  for Abans Holdings Ltd.: cannot reindex on an axis with duplicate labels\n"
     ]
    }
   ],
   "source": [
    "\n",
    "excel = pd.DataFrame()\n",
    "\n",
    "for symbol in symbols:\n",
    "    try:\n",
    "        # Execute the code for each Company\n",
    "        results1 = results[results['Company Name'] == symbol].copy()\n",
    "        results1 = results1.sort_values('QTRC_Date End')\n",
    "\n",
    "        #Expenditure and sales flag    \n",
    "        results1['Increaseinstock'] = -1 * (results1['QTRC_(Increase) / Decrease In Stocks'][results1['QTRC_(Increase) / Decrease In Stocks'] < 0])\n",
    "        results1['Increase stock/Netsales'] = results1['Increaseinstock'] / results1['QTRC_Net Sales & Other Operating Income']\n",
    "        results1['foreignexchangeloans/tExpenditure'] = results1['QTRC_Loss on Foreign Exchange Loan'] / results1['QTRC_Total Expenditure']\n",
    "        results1['Miscexpense/tExpenditure'] = results1['QTRC_Miscellaneous Expenses'] / results1['QTRC_Total Expenditure']  \n",
    "        \n",
    "        #other Income \n",
    "        results1['otherincomeFlag'] = results1['QTRC_Other Income'] / results1['QTRC_PBIDT (Excl OI)']  \n",
    "        results1['OffloadingInvst/operatingIncome'] = results1['QTRC_Profit on Sale of Investments'] / results1['QTRC_PBIDT (Excl OI)']  \n",
    "        results1['OffloadingAssets/operatingIncome'] = results1['QTRC_Profit on Sale of Assets'] / results1['QTRC_PBIDT (Excl OI)']\n",
    "        results1['provisions/OperatingIncome'] = results1['QTRC_Provision Written Back'] / results1['QTRC_PBIDT (Excl OI)']  \n",
    "        results1['otherincomeFlag'] = results1['QTRC_Provision Written Back'] / results1['QTRC_PBIDT (Excl OI)']  \n",
    "\n",
    "        #Profit Deductions\n",
    "        results1['ShadyDeductionsonOperatingIncome'] = (results1['QTRC_Exceptional Items'] + results1['QTRC_Foreign Exchange Gain / Loss'] + results1['QTRC_Other Exceoptional Items']) / results1['QTRC_Operating Profit']  \n",
    "        results1['ShadyDeductionsonPBT'] = results1['QTRC_Provisions and Contingencies']  / results1['QTRC_PBT'] \n",
    "        results1['ShadyDeductionsonPAT'] = (results1['QTRC_Extraordinary Items'] + results1['QTRC_Prior Period Expenses'] + results1['QTRC_Other Adjustments'] + results1['QTRC_Other related items'] + results1['QTRC_Misc. Expenses Written off']) / results1['QTRC_Profit after tax'] \n",
    "        results1['MinorityInterestFlag'] = results1['QTRC_Minority Interest']  / results1['QTRC_Profit after tax'] \n",
    "\n",
    "        results1['SalesTTM'] = results1['QTRC_Net Sales & Other Operating Income'].rolling(window=4).sum()\n",
    "        results1['OperatingprofitTTM'] = results1['QTRC_Operating Profit'].rolling(window=4).sum()\n",
    "        results1['NetProfit_TTM'] = results1['QTRC_Consolidated Net Profit'].rolling(window=4).sum()\n",
    "\n",
    "        results1['SalesTTM_change'] = (results1['SalesTTM'] - results1['SalesTTM'].shift(1)) / results1['SalesTTM'].shift(1)\n",
    "        results1['OperatingprofitTTM_change'] = (results1['OperatingprofitTTM'] - results1['OperatingprofitTTM'].shift(1)) / results1['OperatingprofitTTM'].shift(1)\n",
    "        results1['NetProfit_TTM_change'] = (results1['NetProfit_TTM'] - results1['NetProfit_TTM'].shift(1)) / results1['NetProfit_TTM'].shift(1)\n",
    "\n",
    "        results1['SalesTTM_Absolute'] = results1['SalesTTM'] - results1['SalesTTM'].shift(1)\n",
    "        results1['OperatingprofitTTM_Absolute'] = results1['OperatingprofitTTM'] - results1['OperatingprofitTTM'].shift(1)\n",
    "        results1['NetProfit_TTM_change_Absolute'] = results1['NetProfit_TTM'] - results1['NetProfit_TTM'].shift(1)\n",
    "\n",
    "        results1['NetProfit+Flagger'] = np.where(results1['NetProfit_TTM_change'] > 0, results1['NetProfit_TTM_change'], 0)\n",
    "        results1['NetProfit-lagger'] = np.where(results1['NetProfit_TTM_change'] < 0, results1['NetProfit_TTM_change'], 0)\n",
    "\n",
    "        results1['SalesGrowth_Q'] = (results1['QTRC_Net Sales & Other Operating Income'] - results1['QTRC_Net Sales & Other Operating Income'].shift(1)) / results1['QTRC_Net Sales & Other Operating Income'].shift(1)\n",
    "        results1['OperatingGrowth'] = (results1['QTRC_Operating Profit'] - results1['QTRC_Operating Profit'].shift(1)) / results1['QTRC_Operating Profit'].shift(1)\n",
    "        results1['OperatingGrowth(Excl OI)'] = (results1['QTRC_PBIDT (Excl OI)'] - results1['QTRC_PBIDT (Excl OI)'].shift(1)) / results1['QTRC_PBIDT (Excl OI)'].shift(1)\n",
    "        results1['NetprofitGrowth_Q'] = (results1['QTRC_Consolidated Net Profit'] - results1['QTRC_Consolidated Net Profit'].shift(1)) / results1['QTRC_Consolidated Net Profit'].shift(1)\n",
    "\n",
    "        results1['symbol'] = symbol\n",
    "        excel = pd.concat([excel, results1])\n",
    "\n",
    "    except Exception as e:\n",
    "        print(f\"Error occurred  for {symbol}: {str(e)}\")\n",
    "        continue    \n",
    "        \n",
    "# Step 4: Export the collated dataframe to an XLS file\n",
    "excel['NetProfit_TTM_Positives'] = excel['NetProfit_TTM'].apply(lambda x: x if x > 0 else 0)\n",
    "excel['NetProfit_Quarterly_Positives'] = excel['QTRC_Consolidated Net Profit'].apply(lambda x: x if x > 0 else 0)   \n",
    "excel['uniquecode'] = excel['Company Name'] + excel['QTRC_Date End'].astype(str)\n",
    "\n",
    "filepath = r'C:\\Users\\99111\\OneDrive\\Desktop\\Full data set\\Quarterly results processed\\Quarterlyresults.xlsx'\n",
    "excel.to_excel(filepath, index=False)\n",
    "\n",
    "#QuarterlyStocks = pd.DataFrame()\n",
    "#TTMStocks = pd.DataFrame()\n",
    "\n",
    "#dates = excel['QTRC_Date End'].unique().tolist()\n",
    "\n",
    "#for date in dates:\n",
    "#    try:\n",
    "#        excel1 = excel[(excel['QTRC_Date End'] == date)]\n",
    "#\n",
    "#        excelQRT = excel1.sort_values('NetProfit_Quarterly_Positives', ascending=False)\n",
    "#        QuarterlyProfit = excelQRT['NetProfit_Quarterly_Positives'].sum()*.99\n",
    "#        excelQRT['cumulative_Profit'] = excelQRT['NetProfit_Quarterly_Positives'].cumsum()\n",
    "#        excelQRT['absdiff'] = abs(excelQRT['cumulative_Profit']  - QuarterlyProfit)\n",
    "#        excelQRT = excelQRT.reset_index(drop=False)                                        \n",
    "#        ATM_SP_IDX1 = excelQRT['absdiff'].idxmin()\n",
    "#        excelQRT1 = excelQRT[:ATM_SP_IDX1+1].copy()\n",
    "#        QuarterlyStocks = pd.concat([QuarterlyStocks, excelQRT1])\n",
    "#\n",
    "#        excelTTM = excel1.sort_values('NetProfit_TTM_Positives', ascending=False)\n",
    "#        TTMProfit = excelTTM['NetProfit_TTM_Positives'].sum()*.99\n",
    "#        excelTTM['cumulative_Profit'] = excelTTM['NetProfit_TTM_Positives'].cumsum()\n",
    "#        excelTTM['absdiff'] = abs(excelTTM['cumulative_Profit']  - TTMProfit)\n",
    "#        excelTTM = excelTTM.reset_index(drop=False)                                        \n",
    "#        ATM_SP_IDX2 = excelTTM['absdiff'].idxmin()\n",
    "#        excelTTM1 = excelTTM[:ATM_SP_IDX2+1].copy()\n",
    "#        TTMStocks = pd.concat([TTMStocks, excelTTM1])\n",
    "\n",
    "#    except Exception as e:\n",
    "#        print(f\"Error occurred  for {date}: {str(e)}\")\n",
    "#        continue  \n",
    "\n",
    "#filepath = r'C:\\Users\\99111\\OneDrive\\Desktop\\Full data set\\Quarterly results processed\\QuarterlyFilter.xlsx'\n",
    "#QuarterlyStocks.to_excel(filepath, index=False)\n",
    "\n",
    "#filepath = r'C:\\Users\\99111\\OneDrive\\Desktop\\Full data set\\Quarterly results processed\\TTMFilter.xlsx'\n",
    "#TTMStocks.to_excel(filepath, index=False)\n",
    "\n",
    "\n",
    "#SORTING Quarterly results DF's and Fetching MCAP, PE and EV / EBITDA\n",
    "########################################\n",
    "#FETCHING QUARTERLY RESULTS\n",
    "\n",
    "file_path1 = r\"C:\\Users\\99111\\OneDrive\\Desktop\\Full data set\\Quarterly results processed\\Quarterlyresults.xlsx\"\n",
    "\n",
    "rdf = pd.read_excel(file_path1)\n",
    "symbols = rdf['Company Name'].unique().tolist()\n",
    "rdf = rdf[['CD_NSE Symbol', 'QTRC_Date End', 'QTRC_Result Date','QTRC_Reserves','SalesTTM','OperatingprofitTTM','NetProfit_TTM','SalesTTM_change','OperatingprofitTTM_change','NetProfit_TTM_change','SalesTTM_Absolute','OperatingprofitTTM_Absolute','NetProfit_TTM_change_Absolute', 'NetProfit_Quarterly_Positives', 'SalesGrowth_Q','OperatingGrowth','OperatingGrowth(Excl OI)', 'NetprofitGrowth_Q', 'Increaseinstock', 'Increase stock/Netsales', 'foreignexchangeloans/tExpenditure', 'Miscexpense/tExpenditure', 'otherincomeFlag', 'OffloadingInvst/operatingIncome', 'OffloadingAssets/operatingIncome', 'provisions/OperatingIncome', 'ShadyDeductionsonOperatingIncome', 'ShadyDeductionsonPBT', 'ShadyDeductionsonPAT', 'MinorityInterestFlag','uniquecode', 'Company Name', 'QTRC_Net Sales & Other Operating Income', 'QTRC_PBIDT (Excl OI)', 'QTRC_Operating Profit', 'QTRC_Consolidated Net Profit']].copy()\n",
    "\n",
    "#########################################\n",
    "#FETCHING LATEST MCAP AND INDUSTRY AND SECTORS\n",
    "\n",
    "folder_path = \"C:/Users/99111/OneDrive/Desktop/Full data set/Price, PE, EBITDA , EV & Mcap/*.csv\"\n",
    "\n",
    "files = glob.glob(folder_path)\n",
    "\n",
    "df_list = []\n",
    "\n",
    "for file in files:\n",
    "    df = pd.read_csv(file)\n",
    "    df_list.append(df)\n",
    "\n",
    "Mcap = pd.concat(df_list)\n",
    "\n",
    "Mcap['NDP_Date'] = pd.to_datetime(Mcap['NDP_Date'])\n",
    "\n",
    "#Mcap = Mcap.sort_values(by='NDP_Date', ascending=False)\n",
    "Mcap['uniquecode'] = Mcap['Company Name'] + Mcap['NDP_Date'].astype(str)\n",
    "\n",
    "Mcap = Mcap.sort_values(by='NDP_Date', ascending=False)\n",
    "Mcap = Mcap.drop_duplicates(subset='Company Name' , keep= 'first')\n",
    "Mcap = Mcap[['Company Name', 'NDP_Date','CD_Sector','CD_Industry','NDP_Mcap','NDP_Consolidated PE','NDP_Consolidated EV EBIDTA']].copy()\n",
    "\n",
    "#########################################\n",
    "\n",
    "ff = pd.merge(rdf, Mcap, on='Company Name', how='left')\n",
    "\n",
    "ff['QTRC_Result Date'] = pd.to_datetime(ff['QTRC_Result Date'], errors='coerce')\n",
    "ff = ff.dropna(subset=['QTRC_Result Date']).copy()\n",
    "sorted_df = ff.sort_values(by=['QTRC_Result Date', 'NetProfit_Quarterly_Positives'], ascending=[False, False])\n",
    "sorted_df = sorted_df[['Company Name','CD_NSE Symbol', 'CD_Sector', 'NDP_Mcap', 'NDP_Consolidated PE', 'NDP_Consolidated EV EBIDTA', 'QTRC_Date End', 'QTRC_Result Date','QTRC_Reserves','SalesTTM','OperatingprofitTTM','NetProfit_TTM','SalesTTM_change','OperatingprofitTTM_change','NetProfit_TTM_change','SalesTTM_Absolute','OperatingprofitTTM_Absolute','NetProfit_TTM_change_Absolute', 'NetProfit_Quarterly_Positives', 'SalesGrowth_Q', 'OperatingGrowth','OperatingGrowth(Excl OI)', 'NetprofitGrowth_Q', 'NDP_Consolidated PE', 'NDP_Consolidated EV EBIDTA','Increaseinstock', 'Increase stock/Netsales', 'foreignexchangeloans/tExpenditure', 'Miscexpense/tExpenditure', 'otherincomeFlag', 'OffloadingInvst/operatingIncome', 'OffloadingAssets/operatingIncome', 'provisions/OperatingIncome', 'ShadyDeductionsonOperatingIncome', 'ShadyDeductionsonPBT', 'ShadyDeductionsonPAT', 'MinorityInterestFlag','uniquecode', 'QTRC_Net Sales & Other Operating Income','QTRC_PBIDT (Excl OI)', 'QTRC_Operating Profit', 'QTRC_Consolidated Net Profit']].copy()\n",
    "sorted_df['uniquecode_1'] = sorted_df['CD_Sector'] + sorted_df['QTRC_Date End'].astype(str)\n",
    "\n",
    "\n",
    "filepath = r'C:\\Users\\99111\\OneDrive\\Desktop\\daily updates\\Quarterly Results\\SortedQuarterlyresults.xlsx'\n",
    "sorted_df.to_excel(filepath, index=False)"
   ]
  },
  {
   "cell_type": "markdown",
   "metadata": {},
   "source": [
    "Testing industry growth sheet"
   ]
  },
  {
   "cell_type": "code",
   "execution_count": 4,
   "metadata": {},
   "outputs": [
    {
     "name": "stdout",
     "output_type": "stream",
     "text": [
      "Error occurred for 2016-03-31T00:00:00.000000000 in sector Healthcare: index 1 is out of bounds for axis 0 with size 1\n",
      "Error occurred for 2016-03-31T00:00:00.000000000 in sector FMCG: index 1 is out of bounds for axis 0 with size 1\n",
      "Error occurred for 2016-03-31T00:00:00.000000000 in sector Capital Goods: index 1 is out of bounds for axis 0 with size 1\n",
      "Error occurred for 2016-03-31T00:00:00.000000000 in sector Infrastructure: index 1 is out of bounds for axis 0 with size 1\n",
      "Error occurred for 2016-03-31T00:00:00.000000000 in sector Chemicals: index 1 is out of bounds for axis 0 with size 1\n",
      "Error occurred for 2016-03-31T00:00:00.000000000 in sector Plastic Products: index 1 is out of bounds for axis 0 with size 1\n",
      "Error occurred for 2016-03-31T00:00:00.000000000 in sector Media & Entertainment: index 1 is out of bounds for axis 0 with size 1\n",
      "Error occurred for 2016-03-31T00:00:00.000000000 in sector Finance: index 1 is out of bounds for axis 0 with size 1\n",
      "Error occurred for 2016-03-31T00:00:00.000000000 in sector IT: index 1 is out of bounds for axis 0 with size 1\n",
      "Error occurred for 2016-03-31T00:00:00.000000000 in sector Automobile & Ancillaries: index 1 is out of bounds for axis 0 with size 1\n",
      "Error occurred for 2016-03-31T00:00:00.000000000 in sector Power: index 1 is out of bounds for axis 0 with size 1\n",
      "Error occurred for 2016-03-31T00:00:00.000000000 in sector Textile: index 1 is out of bounds for axis 0 with size 1\n",
      "Error occurred for 2016-03-31T00:00:00.000000000 in sector Diamond  &  Jewellery: index 1 is out of bounds for axis 0 with size 1\n",
      "Error occurred for 2016-03-31T00:00:00.000000000 in sector Telecom: index 1 is out of bounds for axis 0 with size 1\n",
      "Error occurred for 2016-03-31T00:00:00.000000000 in sector Construction Materials: index 1 is out of bounds for axis 0 with size 1\n",
      "Error occurred for 2016-03-31T00:00:00.000000000 in sector Crude Oil: index 1 is out of bounds for axis 0 with size 1\n",
      "Error occurred for 2016-03-31T00:00:00.000000000 in sector Hospitality: index 1 is out of bounds for axis 0 with size 1\n",
      "Error occurred for 2016-03-31T00:00:00.000000000 in sector Bank: index 1 is out of bounds for axis 0 with size 1\n",
      "Error occurred for 2016-03-31T00:00:00.000000000 in sector Iron & Steel: index 1 is out of bounds for axis 0 with size 1\n",
      "Error occurred for 2016-03-31T00:00:00.000000000 in sector Trading: index 1 is out of bounds for axis 0 with size 1\n",
      "Error occurred for 2016-03-31T00:00:00.000000000 in sector Logistics: index 1 is out of bounds for axis 0 with size 1\n",
      "Error occurred for 2016-03-31T00:00:00.000000000 in sector Realty: index 1 is out of bounds for axis 0 with size 1\n",
      "Error occurred for 2016-03-31T00:00:00.000000000 in sector Electricals: index 1 is out of bounds for axis 0 with size 1\n",
      "Error occurred for 2016-03-31T00:00:00.000000000 in sector Education & Training: index 1 is out of bounds for axis 0 with size 1\n",
      "Error occurred for 2016-03-31T00:00:00.000000000 in sector Consumer Durables: index 1 is out of bounds for axis 0 with size 1\n",
      "Error occurred for 2016-03-31T00:00:00.000000000 in sector Abrasives: index 1 is out of bounds for axis 0 with size 1\n",
      "Error occurred for 2016-03-31T00:00:00.000000000 in sector Non - Ferrous Metals: index 1 is out of bounds for axis 0 with size 1\n",
      "Error occurred for 2016-03-31T00:00:00.000000000 in sector Insurance: index 1 is out of bounds for axis 0 with size 1\n",
      "Error occurred for 2016-03-31T00:00:00.000000000 in sector Agri: index 1 is out of bounds for axis 0 with size 1\n",
      "Error occurred for 2016-03-31T00:00:00.000000000 in sector Business Services: index 1 is out of bounds for axis 0 with size 1\n",
      "Error occurred for 2016-03-31T00:00:00.000000000 in sector Paper: index 1 is out of bounds for axis 0 with size 1\n",
      "Error occurred for 2016-03-31T00:00:00.000000000 in sector Ferro Manganese: index 1 is out of bounds for axis 0 with size 1\n",
      "Error occurred for 2016-03-31T00:00:00.000000000 in sector Diversified: index 1 is out of bounds for axis 0 with size 1\n",
      "Error occurred for 2016-03-31T00:00:00.000000000 in sector Retailing: index 1 is out of bounds for axis 0 with size 1\n",
      "Error occurred for 2016-03-31T00:00:00.000000000 in sector Miscellaneous: index 1 is out of bounds for axis 0 with size 1\n",
      "Error occurred for 2016-03-31T00:00:00.000000000 in sector Mining: index 1 is out of bounds for axis 0 with size 1\n",
      "Error occurred for 2016-03-31T00:00:00.000000000 in sector Alcohol: index 1 is out of bounds for axis 0 with size 1\n",
      "Error occurred for 2016-03-31T00:00:00.000000000 in sector Ratings: index 1 is out of bounds for axis 0 with size 1\n",
      "Error occurred for 2016-03-31T00:00:00.000000000 in sector Inds. Gases & Fuels: index 1 is out of bounds for axis 0 with size 1\n",
      "Error occurred for 2016-06-30T00:00:00.000000000 in sector Aviation: index 1 is out of bounds for axis 0 with size 1\n",
      "Error occurred for 2017-12-31T00:00:00.000000000 in sector Gas Transmission: index 1 is out of bounds for axis 0 with size 1\n",
      "Error occurred for 2018-06-30T00:00:00.000000000 in sector Ship Building: index 1 is out of bounds for axis 0 with size 1\n",
      "Error occurred for 2019-03-31T00:00:00.000000000 in sector Photographic Product: index 1 is out of bounds for axis 0 with size 1\n",
      "Error occurred for 2016-03-31T00:00:00.000000000 in sector Pharmaceuticals & Drugs: index 1 is out of bounds for axis 0 with size 1\n",
      "Error occurred for 2016-03-31T00:00:00.000000000 in sector Consumer Food: index 1 is out of bounds for axis 0 with size 1\n",
      "Error occurred for 2016-03-31T00:00:00.000000000 in sector Electric Equipment: index 1 is out of bounds for axis 0 with size 1\n",
      "Error occurred for 2016-03-31T00:00:00.000000000 in sector Engineering - Construction: index 1 is out of bounds for axis 0 with size 1\n",
      "Error occurred for 2016-03-31T00:00:00.000000000 in sector Chemicals: index 1 is out of bounds for axis 0 with size 1\n",
      "Error occurred for 2016-03-31T00:00:00.000000000 in sector Plastic Products: index 1 is out of bounds for axis 0 with size 1\n",
      "Error occurred for 2016-03-31T00:00:00.000000000 in sector TV Broadcasting & Software Production: index 1 is out of bounds for axis 0 with size 1\n",
      "Error occurred for 2016-03-31T00:00:00.000000000 in sector Finance - NBFC: index 1 is out of bounds for axis 0 with size 1\n",
      "Error occurred for 2016-03-31T00:00:00.000000000 in sector IT - Software: index 1 is out of bounds for axis 0 with size 1\n",
      "Error occurred for 2016-03-31T00:00:00.000000000 in sector Film Production Distribution & Entertainment: index 1 is out of bounds for axis 0 with size 1\n",
      "Error occurred for 2016-03-31T00:00:00.000000000 in sector Railways Wagons: index 1 is out of bounds for axis 0 with size 1\n",
      "Error occurred for 2016-03-31T00:00:00.000000000 in sector Power Generation/Distribution: index 1 is out of bounds for axis 0 with size 1\n",
      "Error occurred for 2016-03-31T00:00:00.000000000 in sector Textile: index 1 is out of bounds for axis 0 with size 1\n",
      "Error occurred for 2016-03-31T00:00:00.000000000 in sector Diamond  &  Jewellery: index 1 is out of bounds for axis 0 with size 1\n",
      "Error occurred for 2016-03-31T00:00:00.000000000 in sector Forgings: index 1 is out of bounds for axis 0 with size 1\n",
      "Error occurred for 2018-03-31T00:00:00.000000000 in sector Forgings: index 1 is out of bounds for axis 0 with size 1\n",
      "Error occurred for 2016-03-31T00:00:00.000000000 in sector Telecommunication - Service  Provider: index 1 is out of bounds for axis 0 with size 1\n",
      "Error occurred for 2016-03-31T00:00:00.000000000 in sector Cement & Construction Materials: index 1 is out of bounds for axis 0 with size 1\n",
      "Error occurred for 2016-03-31T00:00:00.000000000 in sector Finance - Investment: index 1 is out of bounds for axis 0 with size 1\n",
      "Error occurred for 2016-03-31T00:00:00.000000000 in sector Engineering - Industrial Equipments: index 1 is out of bounds for axis 0 with size 1\n",
      "Error occurred for 2016-03-31T00:00:00.000000000 in sector Glass: index 1 is out of bounds for axis 0 with size 1\n",
      "Error occurred for 2016-03-31T00:00:00.000000000 in sector Petrochemicals: index 1 is out of bounds for axis 0 with size 1\n",
      "Error occurred for 2016-03-31T00:00:00.000000000 in sector Restaurants: index 1 is out of bounds for axis 0 with size 1\n",
      "Error occurred for 2016-03-31T00:00:00.000000000 in sector Bank - Public: index 1 is out of bounds for axis 0 with size 1\n",
      "Error occurred for 2016-03-31T00:00:00.000000000 in sector Steel & Iron Products: index 1 is out of bounds for axis 0 with size 1\n",
      "Error occurred for 2016-03-31T00:00:00.000000000 in sector Dyes & Pigments: index 1 is out of bounds for axis 0 with size 1\n",
      "Error occurred for 2016-03-31T00:00:00.000000000 in sector Hospital & Healthcare Services: index 1 is out of bounds for axis 0 with size 1\n",
      "Error occurred for 2016-03-31T00:00:00.000000000 in sector Trading: index 1 is out of bounds for axis 0 with size 1\n",
      "Error occurred for 2016-03-31T00:00:00.000000000 in sector Engineering: index 1 is out of bounds for axis 0 with size 1\n",
      "Error occurred for 2016-03-31T00:00:00.000000000 in sector Printing And Publishing: index 1 is out of bounds for axis 0 with size 1\n",
      "Error occurred for 2016-03-31T00:00:00.000000000 in sector Castings/Forgings: index 1 is out of bounds for axis 0 with size 1\n",
      "Error occurred for 2016-03-31T00:00:00.000000000 in sector Shipping: index 1 is out of bounds for axis 0 with size 1\n",
      "Error occurred for 2016-03-31T00:00:00.000000000 in sector Household & Personal Products: index 1 is out of bounds for axis 0 with size 1\n",
      "Error occurred for 2016-03-31T00:00:00.000000000 in sector Tyres & Allied: index 1 is out of bounds for axis 0 with size 1\n",
      "Error occurred for 2016-03-31T00:00:00.000000000 in sector Construction - Real Estate: index 1 is out of bounds for axis 0 with size 1\n",
      "Error occurred for 2016-03-31T00:00:00.000000000 in sector Electronics - Components: index 1 is out of bounds for axis 0 with size 1\n",
      "Error occurred for 2016-03-31T00:00:00.000000000 in sector Automobiles-Trucks/Lcv: index 1 is out of bounds for axis 0 with size 1\n",
      "Error occurred for 2016-03-31T00:00:00.000000000 in sector Oil Exploration: index 1 is out of bounds for axis 0 with size 1\n",
      "Error occurred for 2016-03-31T00:00:00.000000000 in sector Auto Ancillary: index 1 is out of bounds for axis 0 with size 1\n",
      "Error occurred for 2016-03-31T00:00:00.000000000 in sector Textile - Spinning: index 1 is out of bounds for axis 0 with size 1\n",
      "Error occurred for 2016-03-31T00:00:00.000000000 in sector Logistics: index 1 is out of bounds for axis 0 with size 1\n",
      "Error occurred for 2016-03-31T00:00:00.000000000 in sector Fertilizers: index 1 is out of bounds for axis 0 with size 1\n",
      "Error occurred for 2016-03-31T00:00:00.000000000 in sector Educational Institutions: index 1 is out of bounds for axis 0 with size 1\n",
      "Error occurred for 2016-03-31T00:00:00.000000000 in sector Compressors / Pumps: index 1 is out of bounds for axis 0 with size 1\n",
      "Error occurred for 2016-03-31T00:00:00.000000000 in sector Refineries: index 1 is out of bounds for axis 0 with size 1\n",
      "Error occurred for 2016-03-31T00:00:00.000000000 in sector Watches & Accessories: index 1 is out of bounds for axis 0 with size 1\n",
      "Error occurred for 2016-03-31T00:00:00.000000000 in sector Abrasives: index 1 is out of bounds for axis 0 with size 1\n",
      "Error occurred for 2016-03-31T00:00:00.000000000 in sector Pesticides & Agrochemicals: index 1 is out of bounds for axis 0 with size 1\n",
      "Error occurred for 2016-03-31T00:00:00.000000000 in sector Cable: index 1 is out of bounds for axis 0 with size 1\n",
      "Error occurred for 2016-03-31T00:00:00.000000000 in sector Steel/Sponge Iron/Pig Iron: index 1 is out of bounds for axis 0 with size 1\n",
      "Error occurred for 2016-03-31T00:00:00.000000000 in sector Lubricants: index 1 is out of bounds for axis 0 with size 1\n",
      "Error occurred for 2016-03-31T00:00:00.000000000 in sector Paints: index 1 is out of bounds for axis 0 with size 1\n",
      "Error occurred for 2016-03-31T00:00:00.000000000 in sector Textile - Manmade  Fibres: index 1 is out of bounds for axis 0 with size 1\n",
      "Error occurred for 2016-03-31T00:00:00.000000000 in sector Metal - Non Ferrous: index 1 is out of bounds for axis 0 with size 1\n",
      "Error occurred for 2016-03-31T00:00:00.000000000 in sector Finance - Housing: index 1 is out of bounds for axis 0 with size 1\n",
      "Error occurred for 2016-03-31T00:00:00.000000000 in sector Hotel Resort & Restaurants: index 1 is out of bounds for axis 0 with size 1\n",
      "Error occurred for 2016-03-31T00:00:00.000000000 in sector Insurance: index 1 is out of bounds for axis 0 with size 1\n",
      "Error occurred for 2016-03-31T00:00:00.000000000 in sector Batteries: index 1 is out of bounds for axis 0 with size 1\n",
      "Error occurred for 2016-03-31T00:00:00.000000000 in sector Sugar: index 1 is out of bounds for axis 0 with size 1\n",
      "Error occurred for 2016-03-31T00:00:00.000000000 in sector Travel Services: index 1 is out of bounds for axis 0 with size 1\n",
      "Error occurred for 2016-03-31T00:00:00.000000000 in sector Bank - Private: index 1 is out of bounds for axis 0 with size 1\n",
      "Error occurred for 2016-03-31T00:00:00.000000000 in sector Telecommunication - Equipment: index 1 is out of bounds for axis 0 with size 1\n",
      "Error occurred for 2016-03-31T00:00:00.000000000 in sector Professional Services: index 1 is out of bounds for axis 0 with size 1\n",
      "Error occurred for 2016-03-31T00:00:00.000000000 in sector Packaging: index 1 is out of bounds for axis 0 with size 1\n",
      "Error occurred for 2016-03-31T00:00:00.000000000 in sector Paper & Paper Products: index 1 is out of bounds for axis 0 with size 1\n",
      "Error occurred for 2016-03-31T00:00:00.000000000 in sector Finance - Stock Broking: index 1 is out of bounds for axis 0 with size 1\n",
      "Error occurred for 2016-03-31T00:00:00.000000000 in sector Rubber  Products: index 1 is out of bounds for axis 0 with size 1\n",
      "Error occurred for 2016-03-31T00:00:00.000000000 in sector Ferro & Silica Manganese: index 1 is out of bounds for axis 0 with size 1\n",
      "Error occurred for 2016-03-31T00:00:00.000000000 in sector Amusement Parks/Recreation/Club: index 1 is out of bounds for axis 0 with size 1\n",
      "Error occurred for 2016-03-31T00:00:00.000000000 in sector Diversified: index 1 is out of bounds for axis 0 with size 1\n",
      "Error occurred for 2016-03-31T00:00:00.000000000 in sector BPO/ITeS: index 1 is out of bounds for axis 0 with size 1\n",
      "Error occurred for 2016-03-31T00:00:00.000000000 in sector Retailing: index 1 is out of bounds for axis 0 with size 1\n",
      "Error occurred for 2016-03-31T00:00:00.000000000 in sector Automobile Two & Three Wheelers: index 1 is out of bounds for axis 0 with size 1\n",
      "Error occurred for 2016-03-31T00:00:00.000000000 in sector Air Conditioners: index 1 is out of bounds for axis 0 with size 1\n",
      "Error occurred for 2016-03-31T00:00:00.000000000 in sector Tea/Coffee: index 1 is out of bounds for axis 0 with size 1\n",
      "Error occurred for 2016-03-31T00:00:00.000000000 in sector Miscellaneous: index 1 is out of bounds for axis 0 with size 1\n",
      "Error occurred for 2016-03-31T00:00:00.000000000 in sector Mining & Minerals: index 1 is out of bounds for axis 0 with size 1\n",
      "Error occurred for 2016-03-31T00:00:00.000000000 in sector Fintech: index 1 is out of bounds for axis 0 with size 1\n",
      "Error occurred for 2016-03-31T00:00:00.000000000 in sector Breweries & Distilleries: index 1 is out of bounds for axis 0 with size 1\n",
      "Error occurred for 2016-03-31T00:00:00.000000000 in sector IT - Education: index 1 is out of bounds for axis 0 with size 1\n",
      "Error occurred for 2016-03-31T00:00:00.000000000 in sector Textile - Weaving: index 1 is out of bounds for axis 0 with size 1\n",
      "Error occurred for 2016-03-31T00:00:00.000000000 in sector Ratings: index 1 is out of bounds for axis 0 with size 1\n",
      "Error occurred for 2016-03-31T00:00:00.000000000 in sector Ceramics/Marble/Granite/Sanitaryware: index 1 is out of bounds for axis 0 with size 1\n",
      "Error occurred for 2016-03-31T00:00:00.000000000 in sector Wood & Wood Products: index 1 is out of bounds for axis 0 with size 1\n",
      "Error occurred for 2016-03-31T00:00:00.000000000 in sector Engineering Consultancy: index 1 is out of bounds for axis 0 with size 1\n",
      "Error occurred for 2016-03-31T00:00:00.000000000 in sector Finance - Others: index 1 is out of bounds for axis 0 with size 1\n",
      "Error occurred for 2016-03-31T00:00:00.000000000 in sector Construction Vehicles: index 1 is out of bounds for axis 0 with size 1\n",
      "Error occurred for 2016-03-31T00:00:00.000000000 in sector e-Commerce: index 1 is out of bounds for axis 0 with size 1\n",
      "Error occurred for 2016-03-31T00:00:00.000000000 in sector Floriculture: index 1 is out of bounds for axis 0 with size 1\n",
      "Error occurred for 2016-03-31T00:00:00.000000000 in sector IT - Networking: index 1 is out of bounds for axis 0 with size 1\n",
      "Error occurred for 2016-03-31T00:00:00.000000000 in sector Port: index 1 is out of bounds for axis 0 with size 1\n",
      "Error occurred for 2016-03-31T00:00:00.000000000 in sector IT - Hardware: index 1 is out of bounds for axis 0 with size 1\n",
      "Error occurred for 2016-03-31T00:00:00.000000000 in sector Medical Equipment/Supplies/Accessories: index 1 is out of bounds for axis 0 with size 1\n",
      "Error occurred for 2016-03-31T00:00:00.000000000 in sector Solvent  Extraction: index 1 is out of bounds for axis 0 with size 1\n",
      "Error occurred for 2018-06-30T00:00:00.000000000 in sector Solvent  Extraction: index 1 is out of bounds for axis 0 with size 1\n",
      "Error occurred for 2016-03-31T00:00:00.000000000 in sector Environmental Services: index 1 is out of bounds for axis 0 with size 1\n",
      "Error occurred for 2016-03-31T00:00:00.000000000 in sector Industrial  Gases & Fuels: index 1 is out of bounds for axis 0 with size 1\n",
      "Error occurred for 2016-06-30T00:00:00.000000000 in sector Automobiles - Passenger Cars: index 1 is out of bounds for axis 0 with size 1\n",
      "Error occurred for 2016-06-30T00:00:00.000000000 in sector Edible Oil: index 1 is out of bounds for axis 0 with size 1\n",
      "Error occurred for 2018-06-30T00:00:00.000000000 in sector Edible Oil: index 1 is out of bounds for axis 0 with size 1\n",
      "Error occurred for 2016-06-30T00:00:00.000000000 in sector Refractories: index 1 is out of bounds for axis 0 with size 1\n",
      "Error occurred for 2016-06-30T00:00:00.000000000 in sector Finance Term Lending: index 1 is out of bounds for axis 0 with size 1\n",
      "Error occurred for 2016-06-30T00:00:00.000000000 in sector Consumer Durables - Domestic Appliances: index 1 is out of bounds for axis 0 with size 1\n",
      "Error occurred for 2016-06-30T00:00:00.000000000 in sector Airlines: index 1 is out of bounds for axis 0 with size 1\n",
      "Error occurred for 2016-06-30T00:00:00.000000000 in sector Laminates/Decoratives: index 1 is out of bounds for axis 0 with size 1\n",
      "Error occurred for 2016-09-30T00:00:00.000000000 in sector Consumer Durables - Electronics: index 1 is out of bounds for axis 0 with size 1\n",
      "Error occurred for 2016-12-31T00:00:00.000000000 in sector Cycles: index 1 is out of bounds for axis 0 with size 1\n",
      "Error occurred for 2017-03-31T00:00:00.000000000 in sector Finance - Asset Management: index 1 is out of bounds for axis 0 with size 1\n",
      "Error occurred for 2017-06-30T00:00:00.000000000 in sector Electrodes & Welding Equipment: index 1 is out of bounds for axis 0 with size 1\n",
      "Error occurred for 2017-06-30T00:00:00.000000000 in sector Footwear: index 1 is out of bounds for axis 0 with size 1\n",
      "Error occurred for 2017-12-31T00:00:00.000000000 in sector Business Support: index 1 is out of bounds for axis 0 with size 1\n",
      "Error occurred for 2017-12-31T00:00:00.000000000 in sector Gas Transmission/Marketing: index 1 is out of bounds for axis 0 with size 1\n",
      "Error occurred for 2018-06-30T00:00:00.000000000 in sector Fasteners: index 1 is out of bounds for axis 0 with size 1\n",
      "Error occurred for 2018-06-30T00:00:00.000000000 in sector Automobiles-Tractors: index 1 is out of bounds for axis 0 with size 1\n",
      "Error occurred for 2023-12-31T00:00:00.000000000 in sector Automobiles-Tractors: index 1 is out of bounds for axis 0 with size 1\n",
      "Error occurred for 2018-06-30T00:00:00.000000000 in sector Ship Building: index 1 is out of bounds for axis 0 with size 1\n",
      "Error occurred for 2018-06-30T00:00:00.000000000 in sector Cigarettes/Tobacco: index 1 is out of bounds for axis 0 with size 1\n",
      "Error occurred for 2018-06-30T00:00:00.000000000 in sector Agriculture: index 1 is out of bounds for axis 0 with size 1\n",
      "Error occurred for 2018-06-30T00:00:00.000000000 in sector Defence: index 1 is out of bounds for axis 0 with size 1\n",
      "Error occurred for 2018-06-30T00:00:00.000000000 in sector Courier  Services: index 1 is out of bounds for axis 0 with size 1\n",
      "Error occurred for 2018-06-30T00:00:00.000000000 in sector Carbon Black: index 1 is out of bounds for axis 0 with size 1\n",
      "Error occurred for 2018-06-30T00:00:00.000000000 in sector Textile - Machinery: index 1 is out of bounds for axis 0 with size 1\n",
      "Error occurred for 2018-06-30T00:00:00.000000000 in sector Telecom-Infrastructure: index 1 is out of bounds for axis 0 with size 1\n",
      "Error occurred for 2018-06-30T00:00:00.000000000 in sector Aluminium & Aluminium Products: index 1 is out of bounds for axis 0 with size 1\n",
      "Error occurred for 2018-06-30T00:00:00.000000000 in sector Bearings: index 1 is out of bounds for axis 0 with size 1\n",
      "Error occurred for 2018-06-30T00:00:00.000000000 in sector Transmission Towers / Equipments: index 1 is out of bounds for axis 0 with size 1\n",
      "Error occurred for 2018-06-30T00:00:00.000000000 in sector Leather: index 1 is out of bounds for axis 0 with size 1\n",
      "Error occurred for 2018-06-30T00:00:00.000000000 in sector Diesel Engines: index 1 is out of bounds for axis 0 with size 1\n",
      "Error occurred for 2018-12-31T00:00:00.000000000 in sector Automobiles - Dealers & Distributors: index 1 is out of bounds for axis 0 with size 1\n",
      "Error occurred for 2019-03-31T00:00:00.000000000 in sector Photographic Products: index 1 is out of bounds for axis 0 with size 1\n",
      "Error occurred for 2019-06-30T00:00:00.000000000 in sector Advertising & Media: index 1 is out of bounds for axis 0 with size 1\n",
      "Error occurred for 2023-09-30T00:00:00.000000000 in sector Printing & Stationery: index 1 is out of bounds for axis 0 with size 1\n"
     ]
    }
   ],
   "source": [
    "#########################################\n",
    "#FETCHING PROCESSED QUARTERLY RESULTS\n",
    "\n",
    "file_path1 = r\"C:\\Users\\99111\\OneDrive\\Desktop\\Full data set\\Quarterly results processed\\Quarterlyresults.xlsx\"\n",
    "\n",
    "rdf = pd.read_excel(file_path1)\n",
    "symbols = rdf['Company Name'].unique().tolist()\n",
    "rdf = rdf[['CD_NSE Symbol', 'QTRC_Date End', 'QTRC_Result Date','QTRC_Reserves','SalesTTM','OperatingprofitTTM','NetProfit_TTM','SalesTTM_change','OperatingprofitTTM_change','NetProfit_TTM_change','SalesTTM_Absolute','OperatingprofitTTM_Absolute','NetProfit_TTM_change_Absolute', 'NetProfit_Quarterly_Positives','OperatingGrowth','OperatingGrowth(Excl OI)', 'Increaseinstock', 'Increase stock/Netsales', 'foreignexchangeloans/tExpenditure', 'Miscexpense/tExpenditure', 'otherincomeFlag', 'OffloadingInvst/operatingIncome', 'OffloadingAssets/operatingIncome', 'provisions/OperatingIncome', 'ShadyDeductionsonOperatingIncome', 'ShadyDeductionsonPBT', 'ShadyDeductionsonPAT', 'MinorityInterestFlag','uniquecode','Company Name', 'QTRC_Net Sales & Other Operating Income','QTRC_PBIDT (Excl OI)', 'QTRC_Operating Profit', 'QTRC_Consolidated Net Profit']].copy()\n",
    "\n",
    "#########################################\n",
    "#FETCHING LATEST MCAP AND INDUSTRY AND SECTORS\n",
    "\n",
    "folder_path = \"C:/Users/99111/OneDrive/Desktop/Full data set/Price, PE, EBITDA , EV & Mcap/*.csv\"\n",
    "\n",
    "files = glob.glob(folder_path)\n",
    "\n",
    "df_list = []\n",
    "\n",
    "for file in files:\n",
    "    df = pd.read_csv(file)\n",
    "    df_list.append(df)\n",
    "\n",
    "Mcap = pd.concat(df_list)\n",
    "\n",
    "Mcap['NDP_Date'] = pd.to_datetime(Mcap['NDP_Date'])\n",
    "\n",
    "#Mcap = Mcap.sort_values(by='NDP_Date', ascending=False)\n",
    "Mcap['uniquecode'] = Mcap['Company Name'] + Mcap['NDP_Date'].astype(str)\n",
    "\n",
    "Mcap = Mcap.sort_values(by='NDP_Date', ascending=False)\n",
    "Mcap = Mcap.drop_duplicates(subset='Company Name' , keep= 'first')\n",
    "Mcap = Mcap[['Company Name', 'NDP_Date','CD_Sector','CD_Industry','NDP_Mcap','NDP_Consolidated PE','NDP_Consolidated EV EBIDTA']].copy()\n",
    "\n",
    "#########################################\n",
    "#MERGING THE 2 DATA FRAMES\n",
    "\n",
    "ff = pd.merge(rdf, Mcap, on='Company Name', how='left')\n",
    "ff = ff.sort_values(by='QTRC_Date End', ascending=True)\n",
    "ff['QTRC_Result Date'] = pd.to_datetime(ff['QTRC_Result Date'], errors='coerce')\n",
    "sectors= ff['CD_Sector'].unique().tolist()\n",
    "Industries= ff['CD_Industry'].unique().tolist()\n",
    "\n",
    "\n",
    "\n",
    "\n",
    "\n",
    "##########################################\n",
    "#SECTORS PROCESSING\n",
    "##########################################\n",
    "\n",
    "ff = ff[ff['QTRC_Date End'] >= pd.to_datetime('2016-01-01')]\n",
    "\n",
    "datesdf = pd.DataFrame()\n",
    "\n",
    "for sector in sectors:\n",
    "    try:\n",
    "        # Filter the main DataFrame for the current sector\n",
    "        sff = ff[ff['CD_Sector'] == sector].copy()\n",
    "\n",
    "        # Get unique dates in the sector\n",
    "        dates = sff['QTRC_Date End'].unique()\n",
    "\n",
    "        # Create an empty DataFrame for the current sector\n",
    "        sector_df = pd.DataFrame()\n",
    "\n",
    "        for date in dates:\n",
    "            try:\n",
    "                dff = sff[sff['QTRC_Date End'] == date].copy()\n",
    "                sym = dff['Company Name'].unique().tolist()\n",
    "\n",
    "                sff1 = sff[sff['Company Name'].isin(sym)]\n",
    "                sff1 = sff1[sff1['QTRC_Date End'] <= date].copy()\n",
    "\n",
    "                sff1_p = sff1[sff1['QTRC_Date End'] == sff1['QTRC_Date End'].sort_values(ascending=False).unique()[1]].copy()\n",
    "\n",
    "                sff1 = sff1[sff1['QTRC_Date End'] == date].copy()\n",
    "\n",
    "                df = pd.concat([sff1_p, sff1])\n",
    "\n",
    "                df['Count'] = df['Company Name'].map(df['Company Name'].value_counts())\n",
    "\n",
    "                ################################\n",
    "                #Need to add stuff here\n",
    "                ################################\n",
    "\n",
    "                df1 = df[df['Count'] == 1].copy()\n",
    "                missingOPTTM = df1['OperatingprofitTTM']\n",
    "                missingMcap = df1['NDP_Mcap']\n",
    "                missingsymbs = df1.shape[0]\n",
    "\n",
    "                df2 = df[df['Count'] == 2].copy()\n",
    "                symcounts = df2.shape[0]\n",
    "                df2 = df2.groupby('QTRC_Date End')[['SalesTTM', 'OperatingprofitTTM', 'NetProfit_TTM', 'SalesTTM_Absolute', 'OperatingprofitTTM_Absolute', 'NetProfit_TTM_change_Absolute','Increaseinstock', 'NetProfit_Quarterly_Positives', 'QTRC_Net Sales & Other Operating Income','QTRC_PBIDT (Excl OI)', 'QTRC_Operating Profit', 'QTRC_Consolidated Net Profit']].sum()\n",
    "\n",
    "                df2['salesTTM%'] = ((df2['SalesTTM'] - df2['SalesTTM'].shift(1)) / df2['SalesTTM'].shift(1)) \n",
    "                df2['OPTTM%'] = ((df2['OperatingprofitTTM'] - df2['OperatingprofitTTM'].shift(1)) / df2['OperatingprofitTTM'].shift(1)) \n",
    "                df2['NetProfitTTM%'] = ((df2['NetProfit_TTM'] - df2['NetProfit_TTM'].shift(1)) / df2['NetProfit_TTM'].shift(1)) \n",
    "                \n",
    "                df2['Sales_Q'] = ((df2['QTRC_Net Sales & Other Operating Income'] - df2['QTRC_Net Sales & Other Operating Income'].shift(1)) / df2['QTRC_Net Sales & Other Operating Income'].shift(1)) \n",
    "                df2['OPwithoutOI_Q'] = ((df2['QTRC_PBIDT (Excl OI)'] - df2['QTRC_PBIDT (Excl OI)'].shift(1)) / df2['QTRC_PBIDT (Excl OI)'].shift(1)) \n",
    "                df2['OP_Q'] = ((df2['QTRC_Operating Profit'] - df2['QTRC_Operating Profit'].shift(1)) / df2['QTRC_Operating Profit'].shift(1)) \n",
    "                df2['Netprofit_Q'] = ((df2['QTRC_Consolidated Net Profit'] - df2['QTRC_Consolidated Net Profit'].shift(1)) / df2['QTRC_Consolidated Net Profit'].shift(1)) \n",
    "\n",
    "\n",
    "                df2 = df2.drop(df2.index[0])\n",
    "                df2['Date'] = date\n",
    "                df2['sector'] = sector\n",
    "                \n",
    "                df2['CompanyCounts'] = symcounts\n",
    "                df2['MissingSymb'] = missingsymbs\n",
    "                df2['MissingOPTTM'] = missingOPTTM\n",
    "                df2['MissingMCAP'] = missingMcap\n",
    "\n",
    "                sector_df = pd.concat([sector_df, df2])\n",
    "\n",
    "            except Exception as e:\n",
    "                print(f\"Error occurred for {date} in sector {sector}: {str(e)}\")\n",
    "                continue\n",
    "\n",
    "        # Concatenate the results for the current sector to the main results DataFrame\n",
    "        datesdf = pd.concat([datesdf, sector_df])\n",
    "\n",
    "    except Exception as e:\n",
    "        print(f\"Error occurred for sector {sector}: {str(e)}\")\n",
    "        continue\n",
    "\n",
    "datesdf['uniquecode_1'] = datesdf['sector'] + datesdf['Date'].astype(str)\n",
    "filepath = r'C:\\Users\\99111\\OneDrive\\Desktop\\daily updates\\Quarterly Results\\IndustryQuarterlyresults.xlsx'\n",
    "datesdf.to_excel(filepath, index=True)\n",
    "\n",
    "##########################################\n",
    "#INDUSTRY PROCESSING\n",
    "##########################################\n",
    "\n",
    "datesdf = pd.DataFrame()\n",
    "1\n",
    "for sector in Industries:\n",
    "    try:\n",
    "        # Filter the main DataFrame for the current sector\n",
    "        sff = ff[ff['CD_Industry'] == sector].copy()\n",
    "\n",
    "        # Get unique dates in the sector\n",
    "        dates = sff['QTRC_Date End'].unique()\n",
    "\n",
    "        # Create an empty DataFrame for the current sector\n",
    "        sector_df = pd.DataFrame()\n",
    "\n",
    "        for date in dates:\n",
    "            try:\n",
    "                dff = sff[sff['QTRC_Date End'] == date].copy()\n",
    "                sym = dff['Company Name'].unique().tolist()\n",
    "\n",
    "                sff1 = sff[sff['Company Name'].isin(sym)]\n",
    "                sff1 = sff1[sff1['QTRC_Date End'] <= date].copy()\n",
    "\n",
    "                sff1_p = sff1[sff1['QTRC_Date End'] == sff1['QTRC_Date End'].sort_values(ascending=False).unique()[1]].copy()\n",
    "\n",
    "                sff1 = sff1[sff1['QTRC_Date End'] == date].copy()\n",
    "\n",
    "                df = pd.concat([sff1_p, sff1])\n",
    "\n",
    "                df['Count'] = df['Company Name'].map(df['Company Name'].value_counts())\n",
    "\n",
    "                ################################\n",
    "                #Need to add stuff here\n",
    "                ################################\n",
    "\n",
    "                df1 = df[df['Count'] == 1].copy()\n",
    "                missingOPTTM = df1['OperatingprofitTTM']\n",
    "                missingMcap = df1['NDP_Mcap']\n",
    "                missingsymbs = df1.shape[0]\n",
    "\n",
    "                df2 = df[df['Count'] == 2].copy()\n",
    "                symcounts = df2.shape[0]\n",
    "                df2 = df2.groupby('QTRC_Date End')[['SalesTTM', 'OperatingprofitTTM', 'NetProfit_TTM', 'SalesTTM_Absolute', 'OperatingprofitTTM_Absolute', 'NetProfit_TTM_change_Absolute','Increaseinstock', 'NetProfit_Quarterly_Positives', 'QTRC_Net Sales & Other Operating Income','QTRC_PBIDT (Excl OI)', 'QTRC_Operating Profit', 'QTRC_Consolidated Net Profit']].sum()\n",
    "\n",
    "                df2['salesTTM%'] = ((df2['SalesTTM'] - df2['SalesTTM'].shift(1)) / df2['SalesTTM'].shift(1)) \n",
    "                df2['OPTTM%'] = ((df2['OperatingprofitTTM'] - df2['OperatingprofitTTM'].shift(1)) / df2['OperatingprofitTTM'].shift(1)) \n",
    "                df2['NetProfitTTM%'] = ((df2['NetProfit_TTM'] - df2['NetProfit_TTM'].shift(1)) / df2['NetProfit_TTM'].shift(1)) \n",
    "                \n",
    "                df2['Sales_Q'] = ((df2['QTRC_Net Sales & Other Operating Income'] - df2['QTRC_Net Sales & Other Operating Income'].shift(1)) / df2['QTRC_Net Sales & Other Operating Income'].shift(1)) \n",
    "                df2['OPwithoutOI_Q'] = ((df2['QTRC_PBIDT (Excl OI)'] - df2['QTRC_PBIDT (Excl OI)'].shift(1)) / df2['QTRC_PBIDT (Excl OI)'].shift(1)) \n",
    "                df2['OP_Q'] = ((df2['QTRC_Operating Profit'] - df2['QTRC_Operating Profit'].shift(1)) / df2['QTRC_Operating Profit'].shift(1)) \n",
    "                df2['Netprofit_Q'] = ((df2['QTRC_Consolidated Net Profit'] - df2['QTRC_Consolidated Net Profit'].shift(1)) / df2['QTRC_Consolidated Net Profit'].shift(1)) \n",
    "\n",
    "\n",
    "                df2 = df2.drop(df2.index[0])\n",
    "                df2['Date'] = date\n",
    "                df2['sector'] = sector\n",
    "                \n",
    "                df2['CompanyCounts'] = symcounts\n",
    "                df2['MissingSymb'] = missingsymbs\n",
    "                df2['MissingOPTTM'] = missingOPTTM\n",
    "                df2['MissingMCAP'] = missingMcap\n",
    "\n",
    "                sector_df = pd.concat([sector_df, df2])\n",
    "\n",
    "            except Exception as e:\n",
    "                print(f\"Error occurred for {date} in sector {sector}: {str(e)}\")\n",
    "                continue\n",
    "\n",
    "        # Concatenate the results for the current sector to the main results DataFrame\n",
    "        datesdf = pd.concat([datesdf, sector_df])\n",
    "\n",
    "    except Exception as e:\n",
    "        print(f\"Error occurred for sector {sector}: {str(e)}\")\n",
    "        continue\n",
    "\n",
    "datesdf['uniquecode_1'] = datesdf['sector'] + datesdf['Date'].astype(str)\n",
    "filepath = r'C:\\Users\\99111\\OneDrive\\Desktop\\daily updates\\Quarterly Results\\SectorQuarterlyresults.xlsx'\n",
    "datesdf.to_excel(filepath, index=True)\n"
   ]
  },
  {
   "cell_type": "markdown",
   "metadata": {},
   "source": [
    "LOADING DATA FOR COMPANIES WITH IN THE INDUSTRIES"
   ]
  },
  {
   "cell_type": "code",
   "execution_count": 5,
   "metadata": {},
   "outputs": [
    {
     "name": "stdout",
     "output_type": "stream",
     "text": [
      "File deleted: C:\\Users\\99111\\OneDrive\\Desktop\\daily updates\\Quarterly Results\\IndustryQuarterlyresults.xlsx\n",
      "File deleted: C:\\Users\\99111\\OneDrive\\Desktop\\daily updates\\Quarterly Results\\SectorQuarterlyresults.xlsx\n",
      "File deleted: C:\\Users\\99111\\OneDrive\\Desktop\\daily updates\\Quarterly Results\\LATESTCOMPANIES.xlsx\n",
      "File deleted: C:\\Users\\99111\\OneDrive\\Desktop\\daily updates\\Quarterly Results\\SortedQuarterlyresults.xlsx\n"
     ]
    }
   ],
   "source": [
    "folder_path = \"C:/Users/99111/OneDrive/Desktop/Full data set/Price, PE, EBITDA , EV & Mcap/*.csv\"\n",
    "\n",
    "files = glob.glob(folder_path)\n",
    "\n",
    "df_list = []\n",
    "\n",
    "for file in files:\n",
    "    df = pd.read_csv(file)\n",
    "    df_list.append(df)\n",
    "\n",
    "df = pd.concat(df_list)\n",
    "\n",
    "df['NDP_Date'] = pd.to_datetime(df['NDP_Date'])\n",
    "\n",
    "latest_date = df['NDP_Date'].max()\n",
    "\n",
    "LatestSheet = df[df['NDP_Date'] == latest_date]\n",
    "LatestSheet = LatestSheet.loc[:, ['Company Name','CD_NSE Symbol','NDP_Date', 'NDP_Close','CD_Sector', 'CD_Industry', 'NDP_Mcap', 'NDP_Consolidated PE', 'NDP_Consolidated EV EBIDTA']]\n",
    "LatestSheet = LatestSheet.sort_values(by=['CD_Sector', 'CD_Industry','NDP_Mcap'], ascending=[True, True,False])\n",
    "\n",
    "save_dir = r'C:\\Users\\99111\\OneDrive\\Desktop\\daily updates\\Quarterly Results'        \n",
    "chart_file = os.path.join(save_dir, \"LATESTCOMPANIES.xlsx\")\n",
    "LatestSheet.to_excel(chart_file, index=False)\n",
    "\n",
    "######################################\n",
    "\n",
    "\n",
    "file1 = r'C:\\Users\\99111\\OneDrive\\Desktop\\daily updates\\Quarterly Results\\IndustryQuarterlyresults.xlsx'\n",
    "file2 = r'C:\\Users\\99111\\OneDrive\\Desktop\\daily updates\\Quarterly Results\\SectorQuarterlyresults.xlsx'\n",
    "file3 = r'C:\\Users\\99111\\OneDrive\\Desktop\\daily updates\\Quarterly Results\\LATESTCOMPANIES.xlsx'\n",
    "file4 = r'C:\\Users\\99111\\OneDrive\\Desktop\\daily updates\\Quarterly Results\\SortedQuarterlyresults.xlsx'\n",
    "\n",
    "\n",
    "# Read each Excel file into a DataFrame\n",
    "df1 = pd.read_excel(file1, sheet_name='Sheet1')\n",
    "df2 = pd.read_excel(file2, sheet_name='Sheet1')\n",
    "df3 = pd.read_excel(file3, sheet_name='Sheet1')\n",
    "df4 = pd.read_excel(file4, sheet_name='Sheet1')\n",
    "\n",
    "# Specify the full path for the combined file, including the desired folder\n",
    "combined_file_path = r'C:\\Users\\99111\\OneDrive\\Desktop\\daily updates\\Quarterly Results\\combined_file.xlsx'\n",
    "\n",
    "# Create a Pandas Excel writer using ExcelWriter with the specified file path\n",
    "with pd.ExcelWriter(combined_file_path, engine='xlsxwriter') as writer:\n",
    "    # Write each DataFrame to a separate sheet in the same Excel file\n",
    "    df1.to_excel(writer, sheet_name='IndustryQuarterlyresults', index=False)\n",
    "    df2.to_excel(writer, sheet_name='SectorQuarterlyresults', index=False)\n",
    "    df3.to_excel(writer, sheet_name='LATESTCOMPANIES', index=False)\n",
    "    df4.to_excel(writer, sheet_name='SortedQuarterlyresults', index=False)\n",
    "\n",
    "# The combined Excel file with three tabs will be saved at the specified path\n",
    "#print(f\"Combined file saved at: {combined_file_path}\")\n",
    "\n",
    "for file_path in [file1, file2, file3, file4]:\n",
    "    try:\n",
    "        os.remove(file_path)\n",
    "        print(f\"File deleted: {file_path}\")\n",
    "    except FileNotFoundError:\n",
    "        print(f\"File not found: {file_path}\")\n",
    "    except Exception as e:\n",
    "        print(f\"Error deleting file {file_path}: {e}\")\n"
   ]
  },
  {
   "cell_type": "markdown",
   "metadata": {},
   "source": [
    "FULL MARKET"
   ]
  },
  {
   "cell_type": "code",
   "execution_count": null,
   "metadata": {},
   "outputs": [],
   "source": [
    "#########################################\n",
    "#FETCHING PROCESSED QUARTERLY RESULTS\n",
    "\n",
    "file_path1 = r\"C:\\Users\\99111\\OneDrive\\Desktop\\Full data set\\Quarterly results processed\\Quarterlyresults.xlsx\"\n",
    "\n",
    "rdf = pd.read_excel(file_path1)\n",
    "symbols = rdf['Company Name'].unique().tolist()\n",
    "rdf = rdf[['CD_NSE Symbol', 'QTRC_Date End', 'QTRC_Result Date','QTRC_Reserves','SalesTTM','OperatingprofitTTM','NetProfit_TTM','SalesTTM_change','OperatingprofitTTM_change','NetProfit_TTM_change','SalesTTM_Absolute','OperatingprofitTTM_Absolute','NetProfit_TTM_change_Absolute', 'NetProfit_Quarterly_Positives','OperatingGrowth','OperatingGrowth(Excl OI)', 'Increaseinstock', 'Increase stock/Netsales', 'foreignexchangeloans/tExpenditure', 'Miscexpense/tExpenditure', 'otherincomeFlag', 'OffloadingInvst/operatingIncome', 'OffloadingAssets/operatingIncome', 'provisions/OperatingIncome', 'ShadyDeductionsonOperatingIncome', 'ShadyDeductionsonPBT', 'ShadyDeductionsonPAT', 'MinorityInterestFlag','uniquecode','Company Name', 'QTRC_Net Sales & Other Operating Income','QTRC_PBIDT (Excl OI)', 'QTRC_Operating Profit', 'QTRC_Consolidated Net Profit']].copy()\n",
    "\n",
    "#########################################\n",
    "#FETCHING LATEST MCAP AND INDUSTRY AND SECTORS\n",
    "\n",
    "folder_path = \"C:/Users/99111/OneDrive/Desktop/Full data set/Price, PE, EBITDA , EV & Mcap/*.csv\"\n",
    "\n",
    "files = glob.glob(folder_path)\n",
    "\n",
    "df_list = []\n",
    "\n",
    "for file in files:\n",
    "    df = pd.read_csv(file)\n",
    "    df_list.append(df)\n",
    "\n",
    "Mcap = pd.concat(df_list)\n",
    "\n",
    "Mcap['NDP_Date'] = pd.to_datetime(Mcap['NDP_Date'])\n",
    "\n",
    "#Mcap = Mcap.sort_values(by='NDP_Date', ascending=False)\n",
    "Mcap['uniquecode'] = Mcap['Company Name'] + Mcap['NDP_Date'].astype(str)\n",
    "\n",
    "Mcap = Mcap.sort_values(by='NDP_Date', ascending=False)\n",
    "Mcap = Mcap.drop_duplicates(subset='Company Name' , keep= 'first')\n",
    "Mcap = Mcap[['Company Name', 'NDP_Date','CD_Sector','CD_Industry','NDP_Mcap','NDP_Consolidated PE','NDP_Consolidated EV EBIDTA']].copy()\n",
    "\n",
    "#########################################\n",
    "#MERGING THE 2 DATA FRAMES\n",
    "\n",
    "ff = pd.merge(rdf, Mcap, on='Company Name', how='left')\n",
    "ff = ff.sort_values(by='QTRC_Date End', ascending=True)\n",
    "ff['QTRC_Result Date'] = pd.to_datetime(ff['QTRC_Result Date'], errors='coerce')\n",
    "sectors= ff['CD_Sector'].unique().tolist()\n",
    "Industries= ff['CD_Industry'].unique().tolist()\n",
    "\n",
    "#########################################\n",
    "\n",
    "file_path = r\"C:\\Users\\99111\\OneDrive\\Desktop\\Stocklist.xlsx\"\n",
    "symdf = pd.read_excel(file_path)\n",
    "symbols = symdf['All'].unique().tolist()\n",
    "\n",
    "ff = ff[ff['CD_NSE Symbol'].isin(symbols)]\n",
    "\n",
    "##########################################\n",
    "\n",
    "        ff1 = ff[ff['QTRC_Date End'] >= pd.to_datetime('2016-01-01')]\n",
    "\n",
    "        datesdf = pd.DataFrame()\n",
    "\n",
    "        dates = ff1['QTRC_Date End'].unique()\n",
    "\n",
    "\n",
    "        for date in dates:\n",
    "            try:\n",
    "                dff = ff1[ff1['QTRC_Date End'] == date].copy()\n",
    "                sym = dff['Company Name'].unique().tolist()\n",
    "\n",
    "                sff1 = ff1[ff1['Company Name'].isin(sym)]\n",
    "                sff1 = sff1[sff1['QTRC_Date End'] <= date].copy()\n",
    "\n",
    "                sff1_p = sff1[sff1['QTRC_Date End'] == sff1['QTRC_Date End'].sort_values(ascending=False).unique()[1]].copy()\n",
    "\n",
    "                sff1 = sff1[sff1['QTRC_Date End'] == date].copy()\n",
    "\n",
    "                df = pd.concat([sff1_p, sff1])\n",
    "\n",
    "                df['Count'] = df['Company Name'].map(df['Company Name'].value_counts())\n",
    "\n",
    "                ################################\n",
    "                #Need to add stuff here\n",
    "                ################################\n",
    "\n",
    "                df1 = df[df['Count'] == 1].copy()\n",
    "                missingOPTTM = df1['OperatingprofitTTM']\n",
    "                missingMcap = df1['NDP_Mcap']\n",
    "                missingsymbs = df1.shape[0]\n",
    "\n",
    "                df2 = df[df['Count'] == 2].copy()\n",
    "                symcounts = df2.shape[0]\n",
    "                df2 = df2.groupby('QTRC_Date End')[['SalesTTM', 'OperatingprofitTTM', 'NetProfit_TTM', 'SalesTTM_Absolute', 'OperatingprofitTTM_Absolute', 'NetProfit_TTM_change_Absolute','Increaseinstock', 'NetProfit_Quarterly_Positives', 'QTRC_Net Sales & Other Operating Income','QTRC_PBIDT (Excl OI)', 'QTRC_Operating Profit', 'QTRC_Consolidated Net Profit']].sum()\n",
    "\n",
    "                df2['salesTTM%'] = ((df2['SalesTTM'] - df2['SalesTTM'].shift(1)) / df2['SalesTTM'].shift(1)) \n",
    "                df2['OPTTM%'] = ((df2['OperatingprofitTTM'] - df2['OperatingprofitTTM'].shift(1)) / df2['OperatingprofitTTM'].shift(1)) \n",
    "                df2['NetProfitTTM%'] = ((df2['NetProfit_TTM'] - df2['NetProfit_TTM'].shift(1)) / df2['NetProfit_TTM'].shift(1)) \n",
    "                \n",
    "                df2['Sales_Q'] = ((df2['QTRC_Net Sales & Other Operating Income'] - df2['QTRC_Net Sales & Other Operating Income'].shift(1)) / df2['QTRC_Net Sales & Other Operating Income'].shift(1)) \n",
    "                df2['OPwithoutOI_Q'] = ((df2['QTRC_PBIDT (Excl OI)'] - df2['QTRC_PBIDT (Excl OI)'].shift(1)) / df2['QTRC_PBIDT (Excl OI)'].shift(1)) \n",
    "                df2['OP_Q'] = ((df2['QTRC_Operating Profit'] - df2['QTRC_Operating Profit'].shift(1)) / df2['QTRC_Operating Profit'].shift(1)) \n",
    "                df2['Netprofit_Q'] = ((df2['QTRC_Consolidated Net Profit'] - df2['QTRC_Consolidated Net Profit'].shift(1)) / df2['QTRC_Consolidated Net Profit'].shift(1)) \n",
    "\n",
    "\n",
    "                df2 = df2.drop(df2.index[0])\n",
    "                df2['Date'] = date\n",
    "                #df2['sector'] = sector\n",
    "                \n",
    "                df2['CompanyCounts'] = symcounts\n",
    "                df2['MissingSymb'] = missingsymbs\n",
    "                df2['MissingOPTTM'] = missingOPTTM\n",
    "                df2['MissingMCAP'] = missingMcap\n",
    "\n",
    "                datesdf = pd.concat([datesdf, df2])\n",
    "\n",
    "            except Exception as e:\n",
    "                print(f\"Error occurred for {date} : {str(e)}\")\n",
    "                continue\n",
    "\n",
    "        datesdf.to_csv('csv.csv')\n"
   ]
  },
  {
   "cell_type": "markdown",
   "metadata": {},
   "source": [
    "testing daily details"
   ]
  },
  {
   "cell_type": "code",
   "execution_count": null,
   "metadata": {},
   "outputs": [],
   "source": [
    "#SORTING Quarterly results DF's and Fetching MCAP, PE and EV / EBITDA\n",
    "########################################\n",
    "#FETCHING QUARTERLY RESULTS\n",
    "\n",
    "file_path1 = r\"C:\\Users\\99111\\OneDrive\\Desktop\\Full data set\\Quarterly results processed\\Quarterlyresults.xlsx\"\n",
    "\n",
    "rdf = pd.read_excel(file_path1)\n",
    "symbols = rdf['Company Name'].unique().tolist()\n",
    "rdf = rdf[['CD_NSE Symbol', 'QTRC_Date End', 'QTRC_Result Date','QTRC_Reserves','SalesTTM','OperatingprofitTTM','NetProfit_TTM','SalesTTM_change','OperatingprofitTTM_change','NetProfit_TTM_change','SalesTTM_Absolute','OperatingprofitTTM_Absolute','NetProfit_TTM_change_Absolute', 'NetProfit_Quarterly_Positives','OperatingGrowth','OperatingGrowth(Excl OI)', 'Increaseinstock', 'Increase stock/Netsales', 'foreignexchangeloans/tExpenditure', 'Miscexpense/tExpenditure', 'otherincomeFlag', 'OffloadingInvst/operatingIncome', 'OffloadingAssets/operatingIncome', 'provisions/OperatingIncome', 'ShadyDeductionsonOperatingIncome', 'ShadyDeductionsonPBT', 'ShadyDeductionsonPAT', 'MinorityInterestFlag','uniquecode', 'Company Name']].copy()\n",
    "\n",
    "#########################################\n",
    "#FETCHING LATEST MCAP AND INDUSTRY AND SECTORS\n",
    "\n",
    "folder_path = \"C:/Users/99111/OneDrive/Desktop/Full data set/Price, PE, EBITDA , EV & Mcap/*.csv\"\n",
    "\n",
    "files = glob.glob(folder_path)\n",
    "\n",
    "df_list = []\n",
    "\n",
    "for file in files:\n",
    "    df = pd.read_csv(file)\n",
    "    df_list.append(df)\n",
    "\n",
    "Mcap = pd.concat(df_list)\n",
    "\n",
    "Mcap['NDP_Date'] = pd.to_datetime(Mcap['NDP_Date'])\n",
    "\n",
    "#Mcap = Mcap.sort_values(by='NDP_Date', ascending=False)\n",
    "Mcap['uniquecode'] = Mcap['Company Name'] + Mcap['NDP_Date'].astype(str)\n",
    "\n",
    "Mcap = Mcap.sort_values(by='NDP_Date', ascending=False)\n",
    "Mcap = Mcap.drop_duplicates(subset='Company Name' , keep= 'first')\n",
    "Mcap = Mcap[['Company Name', 'NDP_Date','CD_Sector','CD_Industry','NDP_Mcap','NDP_Consolidated PE','NDP_Consolidated EV EBIDTA']].copy()\n",
    "\n",
    "#########################################\n",
    "\n",
    "ff = pd.merge(rdf, Mcap, on='Company Name', how='left')\n"
   ]
  },
  {
   "cell_type": "code",
   "execution_count": null,
   "metadata": {},
   "outputs": [],
   "source": [
    "folder_path = \"C:/Users/99111/OneDrive/Desktop/Full data set/Price, PE, EBITDA , EV & Mcap/*.csv\"\n",
    "\n",
    "files = glob.glob(folder_path)\n",
    "\n",
    "df_list = []\n",
    "\n",
    "for file in files:\n",
    "    df = pd.read_csv(file)\n",
    "    df_list.append(df)\n",
    "\n",
    "Mcap = pd.concat(df_list)\n",
    "\n",
    "Mcap['NDP_Date'] = pd.to_datetime(Mcap['NDP_Date'])\n",
    "\n",
    "#Mcap = Mcap.sort_values(by='NDP_Date', ascending=False)\n",
    "Mcap['uniquecode'] = Mcap['Company Name'] + Mcap['NDP_Date'].astype(str)\n"
   ]
  },
  {
   "cell_type": "code",
   "execution_count": null,
   "metadata": {},
   "outputs": [],
   "source": [
    "cos = Mcap['Company Name'].unique().tolist()\n",
    "cos[1]"
   ]
  },
  {
   "cell_type": "code",
   "execution_count": null,
   "metadata": {},
   "outputs": [],
   "source": [
    "mcap1 = Mcap[Mcap['Company Name'] == cos[3]].copy()\n",
    "mcap1 = mcap1.drop_duplicates(subset='NDP_Date' , keep= 'first')\n",
    "mcap1 = mcap1.sort_values(by='NDP_Date', ascending=True)\n",
    "\n",
    "date_range = pd.date_range(start=mcap1['NDP_Date'].min(), end=mcap1['NDP_Date'].max(), freq='D')\n",
    "\n",
    "# Reindex the DataFrame with the generated date range\n",
    "mcap1 = mcap1.set_index('NDP_Date').reindex(date_range)\n",
    "\n",
    "# Forward fill the missing values using the values from the rows above\n",
    "mcap1 = mcap1.ffill()\n",
    "\n",
    "# Reset the index to bring 'date' back as a column\n",
    "mcap1 = mcap1.reset_index()\n",
    "\n",
    "mcap1.to_csv('csv.csv')"
   ]
  },
  {
   "cell_type": "code",
   "execution_count": null,
   "metadata": {},
   "outputs": [],
   "source": [
    "##########################################################################################\n",
    "\n",
    "ff1 = Mcap[Mcap['Company Name'] == symbol[1]].copy()\n",
    "\n",
    "ff1['date'] = pd.to_datetime(ff1['NDP_Date'])\n",
    "\n",
    "# Sort the DataFrame by date if it's not already sorted\n",
    "ff1 = ff1.sort_values(by='NDP_Date')\n",
    "\n",
    "# Generate a date range that spans from the minimum to maximum date in your DataFrame\n",
    "date_range = pd.date_range(start=ff1['date'].min(), end=ff1['date'].max(), freq='D')\n",
    "\n",
    "# Reindex the DataFrame with the generated date range\n",
    "df = df.set_index('date').reindex(date_range)\n",
    "\n",
    "# Forward fill the missing values using the values from the rows above\n",
    "df = df.ffill()\n",
    "\n",
    "# Reset the index to bring 'date' back as a column\n",
    "df = df.reset_index()"
   ]
  },
  {
   "cell_type": "markdown",
   "metadata": {},
   "source": [
    "FOR FETCHING FCFE AS WELL"
   ]
  },
  {
   "cell_type": "code",
   "execution_count": null,
   "metadata": {},
   "outputs": [],
   "source": [
    "file_path1 = r\"C:\\Users\\99111\\OneDrive\\Desktop\\Full data set\\FCFE\\Data\\combinedfile.csv\"\n",
    "combinedfile = pd.read_csv(file_path1)\n",
    "\n",
    "file_path2 = r\"C:\\Users\\99111\\OneDrive\\Desktop\\Full data set\\Quarterly results processed\\TTMFilter.xlsx\"\n",
    "TTMFilter = pd.read_excel(file_path2)\n",
    "\n",
    "merged_df = pd.merge(TTMFilter, combinedfile, on='uniquecode', how='outer')\n",
    "filepath = r'C:\\Users\\99111\\OneDrive\\Desktop\\Full data set\\Quarterly results processed\\Quarterly&FCFE.xlsx'\n",
    "merged_df.to_excel(filepath, index=False)"
   ]
  },
  {
   "cell_type": "code",
   "execution_count": null,
   "metadata": {},
   "outputs": [],
   "source": [
    "final = pd.DataFrame()\n",
    "\n",
    "file_path = r'C:\\Users\\99111\\OneDrive\\Desktop\\Full data set\\Quarterly results processed\\Quarterly&FCFE.xlsx'\n",
    "df = pd.read_excel(file_path)\n",
    "\n",
    "symbols = df['Company Name'].unique().tolist()\n",
    "\n",
    "for symbol in symbols:\n",
    "    try:\n",
    "        \n",
    "        df1 = df[df['Company Name'] == symbol].copy()\n",
    "        df1 = df1.sort_values('QTRC_Date End')\n",
    "\n",
    "        df1['Other Income / Operating Income'] = df1['Other Income / Operating Income'].fillna(method='ffill')\n",
    "        df1['Misc & Capitalised Expense'] = df1['Misc & Capitalised Expense'].fillna(method='ffill')\n",
    "        df1['change in Misc & Capitalised Expense'] = df1['change in Misc & Capitalised Expense'].fillna(method='ffill')\n",
    "        df1['Misc & Capitalised Expense / Total Expenditure'] = df1['Misc & Capitalised Expense / Total Expenditure'].fillna(method='ffill')\n",
    "\n",
    "        df1['Net Sales Growth'] = df1['Net Sales Growth'].fillna(method='ffill')\n",
    "        df1['Operating Profit Growth'] = df1['Operating Profit Growth'].fillna(method='ffill')\n",
    "        df1['PAT Growth'] = df1['PAT Growth'].fillna(method='ffill')\n",
    "        df1['Minority share / PAT'] = df1['Minority share / PAT'].fillna(method='ffill')\n",
    "        df1['Actual payout to Equity'] = df1['Actual payout to Equity'].fillna(method='ffill')\n",
    "        df1['Funny Items in operating CFs'] = df1['Funny Items in operating CFs'].fillna(method='ffill')\n",
    "        df1['change in Funny Items in operating CFs'] = df1['change in Funny Items in operating CFs'].fillna(method='ffill')\n",
    "        df1['Minority interest  / Total NC Liability'] = df1['Minority interest  / Total NC Liability'].fillna(method='ffill')\n",
    "        df1['LT Payables & provisions & other'] = df1['LT Payables & provisions & other'].fillna(method='ffill')\n",
    "        df1['Change in LT Payables & provisions & other'] = df1['Change in LT Payables & provisions & other'].fillna(method='ffill')\n",
    "        df1['LT Payables & provisions / Total NC liabilities'] = df1['LT Payables & provisions / Total NC liabilities'].fillna(method='ffill')\n",
    "        df1['Change in Net Block'] = df1['Change in Net Block'].fillna(method='ffill')\n",
    "        df1['FunnyAssets'] = df1['FunnyAssets'].fillna(method='ffill')\n",
    "        df1['Change in FunnyAssets'] = df1['Change in FunnyAssets'].fillna(method='ffill')\n",
    "        df1['FunnyAssets Flag'] = df1['FunnyAssets Flag'].fillna(method='ffill')\n",
    "        df1['Contingent Liability / Total Assets'] = df1['Contingent Liability / Total Assets'].fillna(method='ffill')\n",
    "        df1['Contingent liability increase Flag'] = df1['Contingent liability increase Flag'].fillna(method='ffill')\n",
    "        df1['Non Cash Working Capital'] = df1['Non Cash Working Capital'].fillna(method='ffill')\n",
    "        df1['Cash/Current Liability'] = df1['Cash/Current Liability'].fillna(method='ffill')\n",
    "\n",
    "        df1['PLC_Consolidated Net Profit'] = df1['PLC_Consolidated Net Profit'].fillna(method='ffill')\n",
    "        df1['CAPEX'] = df1['CAPEX'].fillna(method='ffill')\n",
    "        df1['Net Casflow from Debt'] = df1['Net Casflow from Debt'].fillna(method='ffill')\n",
    "        df1['NetfromPreferencialEquity'] = df1['NetfromPreferencialEquity'].fillna(method='ffill')\n",
    "        df1['Change in Non Cash Working Capital'] = df1['Change in Non Cash Working Capital'].fillna(method='ffill')\n",
    "        df1['FCFE'] = df1['FCFE'].fillna(method='ffill')\n",
    "\n",
    "        df1['PLC_Net Sales_4y'] = df1['PLC_Net Sales_4y'].fillna(method='ffill')\n",
    "        df1['PLC_Operating Profit_4y'] = df1['PLC_Operating Profit_4y'].fillna(method='ffill')\n",
    "\n",
    "        df1['PLC_Consolidated Net Profit_4y'] = df1['PLC_Consolidated Net Profit_4y'].fillna(method='ffill')\n",
    "        df1['CAPEX_4y'] = df1['CAPEX_4y'].fillna(method='ffill')\n",
    "        df1['Net Casflow from Debt_4y'] = df1['Net Casflow from Debt_4y'].fillna(method='ffill')\n",
    "        df1['NetfromPreferencialEquity_4y'] = df1['NetfromPreferencialEquity_4y'].fillna(method='ffill')\n",
    "        df1['Change in Non Cash Working Capital_4y'] = df1['Change in Non Cash Working Capital_4y'].fillna(method='ffill')\n",
    "        df1['FCFE_4y'] = df1['FCFE_4y'].fillna(method='ffill')\n",
    "     \n",
    "     \n",
    "\n",
    "        final = pd.concat([final, df1])\n",
    "\n",
    "    except Exception as e:\n",
    "        print(f\"Error occurred  for {symbol}: {str(e)}\")\n",
    "        continue\n",
    "\n",
    "final = final[['Company Name','CD_Trading Status','CD_NSE Symbol','QTRC_Date End','QTRC_Result Date','QTRC_Net Sales','QTRC_Operating Profit','Increaseinstock','Increase stock/Netsales','foreignexchangeloans/tExpenditure','Miscexpense/tExpenditure','otherincomeFlag','OffloadingInvst/operatingIncome','OffloadingAssets/operatingIncome','provisions/OperatingIncome','ShadyDeductionsonOperatingIncome','ShadyDeductionsonPBT','ShadyDeductionsonPAT','MinorityInterestFlag','NetProfit_TTM','NetProfit_TTM_change','NetProfit+Flagger','NetProfit-lagger','NetProfit_TTM_Positives','NetProfit_Quarterly_Positives','BSC_Total Assets','BSC_Total Debt','BSC_Book Value','BSC_Adjusted Book Value','Other Income / Operating Income','Misc & Capitalised Expense','change in Misc & Capitalised Expense','Misc & Capitalised Expense / Total Expenditure','Net Sales Growth','Operating Profit Growth','PAT Growth','Minority share / PAT','Actual payout to Equity','Funny Items in operating CFs','change in Funny Items in operating CFs','Minority interest  / Total NC Liability','LT Payables & provisions & other','Change in LT Payables & provisions & other','LT Payables & provisions / Total NC liabilities','Change in Net Block','FunnyAssets','Change in FunnyAssets','FunnyAssets Flag','Contingent Liability / Total Assets','Contingent liability increase Flag','Non Cash Working Capital','Cash/Current Liability','PLC_Consolidated Net Profit','CAPEX','Net Casflow from Debt','NetfromPreferencialEquity','Change in Non Cash Working Capital','PLC_Net Sales_4y','PLC_Operating Profit_4y','PLC_Consolidated Net Profit_4y','CAPEX_4y','Net Casflow from Debt_4y','NetfromPreferencialEquity_4y','Change in Non Cash Working Capital_4y','FCFE_4y','FCFE','uniquecode',]]\n",
    "\n",
    "filepath = r'C:\\Users\\99111\\OneDrive\\Desktop\\Full data set\\Quarterly results processed\\ResultsFile.xlsx'\n",
    "final.to_excel(filepath, index=False)\n",
    "\n"
   ]
  }
 ],
 "metadata": {
  "kernelspec": {
   "display_name": "Python 3.10.7 64-bit (microsoft store)",
   "language": "python",
   "name": "python3"
  },
  "language_info": {
   "codemirror_mode": {
    "name": "ipython",
    "version": 3
   },
   "file_extension": ".py",
   "mimetype": "text/x-python",
   "name": "python",
   "nbconvert_exporter": "python",
   "pygments_lexer": "ipython3",
   "version": "3.10.11"
  },
  "orig_nbformat": 4,
  "vscode": {
   "interpreter": {
    "hash": "27156bc63d14a65dfa14e1b73b9a41f3aeb50270a4e898aa5ea771669f0a0420"
   }
  }
 },
 "nbformat": 4,
 "nbformat_minor": 2
}
